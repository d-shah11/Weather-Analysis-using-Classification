{
 "cells": [
  {
   "cell_type": "markdown",
   "metadata": {},
   "source": [
    "## Project 2 - Classification Task"
   ]
  },
  {
   "cell_type": "code",
   "execution_count": 1,
   "metadata": {},
   "outputs": [],
   "source": [
    "import pandas as pd\n",
    "import numpy as np\n",
    "import matplotlib.pyplot as plt\n",
    "import seaborn as sns\n",
    "\n",
    "# import warnings filter\n",
    "from warnings import simplefilter\n",
    "# ignore all future warnings\n",
    "simplefilter(action='ignore', category=FutureWarning)\n",
    "\n",
    "from sklearn.neighbors import KNeighborsClassifier\n",
    "from sklearn.ensemble import VotingClassifier\n",
    "from sklearn.naive_bayes import GaussianNB\n",
    "from sklearn.linear_model import LogisticRegression\n",
    "from sklearn.svm import SVC\n",
    "from sklearn.model_selection import train_test_split\n",
    "from sklearn.preprocessing import MinMaxScaler\n",
    "from sklearn.model_selection import GridSearchCV"
   ]
  },
  {
   "cell_type": "code",
   "execution_count": 2,
   "metadata": {},
   "outputs": [
    {
     "data": {
      "text/plain": [
       "(3000, 24)"
      ]
     },
     "execution_count": 2,
     "metadata": {},
     "output_type": "execute_result"
    }
   ],
   "source": [
    "data= pd.read_csv('weatherdata.csv')\n",
    "data.shape"
   ]
  },
  {
   "cell_type": "markdown",
   "metadata": {},
   "source": [
    "## Exploring Data"
   ]
  },
  {
   "cell_type": "code",
   "execution_count": 3,
   "metadata": {},
   "outputs": [
    {
     "name": "stdout",
     "output_type": "stream",
     "text": [
      "<class 'pandas.core.frame.DataFrame'>\n",
      "RangeIndex: 3000 entries, 0 to 2999\n",
      "Data columns (total 24 columns):\n",
      "Date             3000 non-null object\n",
      "Location         3000 non-null object\n",
      "MinTemp          2994 non-null float64\n",
      "MaxTemp          2999 non-null float64\n",
      "Rainfall         2980 non-null float64\n",
      "Evaporation      0 non-null float64\n",
      "Sunshine         0 non-null float64\n",
      "WindGustDir      2990 non-null object\n",
      "WindGustSpeed    2990 non-null float64\n",
      "WindDir9am       2486 non-null object\n",
      "WindDir3pm       2961 non-null object\n",
      "WindSpeed9am     2996 non-null float64\n",
      "WindSpeed3pm     2993 non-null float64\n",
      "Humidity9am      2996 non-null float64\n",
      "Humidity3pm      2996 non-null float64\n",
      "Pressure9am      3000 non-null float64\n",
      "Pressure3pm      2996 non-null float64\n",
      "Cloud9am         1272 non-null float64\n",
      "Cloud3pm         1411 non-null float64\n",
      "Temp9am          2996 non-null float64\n",
      "Temp3pm          2996 non-null float64\n",
      "RainToday        2980 non-null object\n",
      "RISK_MM          3000 non-null float64\n",
      "RainTomorrow     3000 non-null object\n",
      "dtypes: float64(17), object(7)\n",
      "memory usage: 562.6+ KB\n"
     ]
    }
   ],
   "source": [
    "data.info()"
   ]
  },
  {
   "cell_type": "code",
   "execution_count": 4,
   "metadata": {},
   "outputs": [
    {
     "data": {
      "text/html": [
       "<div>\n",
       "<style scoped>\n",
       "    .dataframe tbody tr th:only-of-type {\n",
       "        vertical-align: middle;\n",
       "    }\n",
       "\n",
       "    .dataframe tbody tr th {\n",
       "        vertical-align: top;\n",
       "    }\n",
       "\n",
       "    .dataframe thead th {\n",
       "        text-align: right;\n",
       "    }\n",
       "</style>\n",
       "<table border=\"1\" class=\"dataframe\">\n",
       "  <thead>\n",
       "    <tr style=\"text-align: right;\">\n",
       "      <th></th>\n",
       "      <th>MinTemp</th>\n",
       "      <th>MaxTemp</th>\n",
       "      <th>Rainfall</th>\n",
       "      <th>Evaporation</th>\n",
       "      <th>Sunshine</th>\n",
       "      <th>WindGustSpeed</th>\n",
       "      <th>WindSpeed9am</th>\n",
       "      <th>WindSpeed3pm</th>\n",
       "      <th>Humidity9am</th>\n",
       "      <th>Humidity3pm</th>\n",
       "      <th>Pressure9am</th>\n",
       "      <th>Pressure3pm</th>\n",
       "      <th>Cloud9am</th>\n",
       "      <th>Cloud3pm</th>\n",
       "      <th>Temp9am</th>\n",
       "      <th>Temp3pm</th>\n",
       "      <th>RISK_MM</th>\n",
       "    </tr>\n",
       "  </thead>\n",
       "  <tbody>\n",
       "    <tr>\n",
       "      <th>count</th>\n",
       "      <td>2994.000000</td>\n",
       "      <td>2999.000000</td>\n",
       "      <td>2980.000000</td>\n",
       "      <td>0.0</td>\n",
       "      <td>0.0</td>\n",
       "      <td>2990.000000</td>\n",
       "      <td>2996.000000</td>\n",
       "      <td>2993.000000</td>\n",
       "      <td>2996.000000</td>\n",
       "      <td>2996.000000</td>\n",
       "      <td>3000.000000</td>\n",
       "      <td>2996.000000</td>\n",
       "      <td>1272.000000</td>\n",
       "      <td>1411.000000</td>\n",
       "      <td>2996.000000</td>\n",
       "      <td>2996.000000</td>\n",
       "      <td>3000.000000</td>\n",
       "    </tr>\n",
       "    <tr>\n",
       "      <th>mean</th>\n",
       "      <td>9.549532</td>\n",
       "      <td>22.662221</td>\n",
       "      <td>1.932483</td>\n",
       "      <td>NaN</td>\n",
       "      <td>NaN</td>\n",
       "      <td>33.002676</td>\n",
       "      <td>8.238985</td>\n",
       "      <td>14.415302</td>\n",
       "      <td>74.017023</td>\n",
       "      <td>47.814085</td>\n",
       "      <td>1018.335833</td>\n",
       "      <td>1015.724332</td>\n",
       "      <td>6.389151</td>\n",
       "      <td>5.423813</td>\n",
       "      <td>14.383445</td>\n",
       "      <td>21.395360</td>\n",
       "      <td>1.920600</td>\n",
       "    </tr>\n",
       "    <tr>\n",
       "      <th>std</th>\n",
       "      <td>6.054214</td>\n",
       "      <td>7.793239</td>\n",
       "      <td>6.259577</td>\n",
       "      <td>NaN</td>\n",
       "      <td>NaN</td>\n",
       "      <td>13.348784</td>\n",
       "      <td>6.748694</td>\n",
       "      <td>7.179581</td>\n",
       "      <td>17.403415</td>\n",
       "      <td>19.824585</td>\n",
       "      <td>7.351716</td>\n",
       "      <td>7.101547</td>\n",
       "      <td>2.390706</td>\n",
       "      <td>2.825989</td>\n",
       "      <td>6.358004</td>\n",
       "      <td>7.521371</td>\n",
       "      <td>6.240495</td>\n",
       "    </tr>\n",
       "    <tr>\n",
       "      <th>min</th>\n",
       "      <td>-2.800000</td>\n",
       "      <td>6.800000</td>\n",
       "      <td>0.000000</td>\n",
       "      <td>NaN</td>\n",
       "      <td>NaN</td>\n",
       "      <td>9.000000</td>\n",
       "      <td>0.000000</td>\n",
       "      <td>0.000000</td>\n",
       "      <td>18.000000</td>\n",
       "      <td>7.000000</td>\n",
       "      <td>989.800000</td>\n",
       "      <td>982.900000</td>\n",
       "      <td>0.000000</td>\n",
       "      <td>1.000000</td>\n",
       "      <td>0.300000</td>\n",
       "      <td>6.400000</td>\n",
       "      <td>0.000000</td>\n",
       "    </tr>\n",
       "    <tr>\n",
       "      <th>25%</th>\n",
       "      <td>4.800000</td>\n",
       "      <td>15.900000</td>\n",
       "      <td>0.000000</td>\n",
       "      <td>NaN</td>\n",
       "      <td>NaN</td>\n",
       "      <td>24.000000</td>\n",
       "      <td>4.000000</td>\n",
       "      <td>9.000000</td>\n",
       "      <td>61.000000</td>\n",
       "      <td>33.000000</td>\n",
       "      <td>1013.400000</td>\n",
       "      <td>1010.700000</td>\n",
       "      <td>5.000000</td>\n",
       "      <td>2.000000</td>\n",
       "      <td>9.300000</td>\n",
       "      <td>15.000000</td>\n",
       "      <td>0.000000</td>\n",
       "    </tr>\n",
       "    <tr>\n",
       "      <th>50%</th>\n",
       "      <td>9.100000</td>\n",
       "      <td>22.000000</td>\n",
       "      <td>0.000000</td>\n",
       "      <td>NaN</td>\n",
       "      <td>NaN</td>\n",
       "      <td>31.000000</td>\n",
       "      <td>7.000000</td>\n",
       "      <td>13.000000</td>\n",
       "      <td>76.000000</td>\n",
       "      <td>47.000000</td>\n",
       "      <td>1018.400000</td>\n",
       "      <td>1015.600000</td>\n",
       "      <td>8.000000</td>\n",
       "      <td>7.000000</td>\n",
       "      <td>14.100000</td>\n",
       "      <td>20.600000</td>\n",
       "      <td>0.000000</td>\n",
       "    </tr>\n",
       "    <tr>\n",
       "      <th>75%</th>\n",
       "      <td>14.300000</td>\n",
       "      <td>28.900000</td>\n",
       "      <td>0.400000</td>\n",
       "      <td>NaN</td>\n",
       "      <td>NaN</td>\n",
       "      <td>41.000000</td>\n",
       "      <td>11.000000</td>\n",
       "      <td>19.000000</td>\n",
       "      <td>88.000000</td>\n",
       "      <td>60.000000</td>\n",
       "      <td>1023.225000</td>\n",
       "      <td>1020.500000</td>\n",
       "      <td>8.000000</td>\n",
       "      <td>8.000000</td>\n",
       "      <td>19.325000</td>\n",
       "      <td>27.200000</td>\n",
       "      <td>0.400000</td>\n",
       "    </tr>\n",
       "    <tr>\n",
       "      <th>max</th>\n",
       "      <td>28.300000</td>\n",
       "      <td>44.800000</td>\n",
       "      <td>104.200000</td>\n",
       "      <td>NaN</td>\n",
       "      <td>NaN</td>\n",
       "      <td>107.000000</td>\n",
       "      <td>37.000000</td>\n",
       "      <td>50.000000</td>\n",
       "      <td>100.000000</td>\n",
       "      <td>100.000000</td>\n",
       "      <td>1039.900000</td>\n",
       "      <td>1036.100000</td>\n",
       "      <td>8.000000</td>\n",
       "      <td>8.000000</td>\n",
       "      <td>34.500000</td>\n",
       "      <td>43.400000</td>\n",
       "      <td>104.200000</td>\n",
       "    </tr>\n",
       "  </tbody>\n",
       "</table>\n",
       "</div>"
      ],
      "text/plain": [
       "           MinTemp      MaxTemp     Rainfall  Evaporation  Sunshine  \\\n",
       "count  2994.000000  2999.000000  2980.000000          0.0       0.0   \n",
       "mean      9.549532    22.662221     1.932483          NaN       NaN   \n",
       "std       6.054214     7.793239     6.259577          NaN       NaN   \n",
       "min      -2.800000     6.800000     0.000000          NaN       NaN   \n",
       "25%       4.800000    15.900000     0.000000          NaN       NaN   \n",
       "50%       9.100000    22.000000     0.000000          NaN       NaN   \n",
       "75%      14.300000    28.900000     0.400000          NaN       NaN   \n",
       "max      28.300000    44.800000   104.200000          NaN       NaN   \n",
       "\n",
       "       WindGustSpeed  WindSpeed9am  WindSpeed3pm  Humidity9am  Humidity3pm  \\\n",
       "count    2990.000000   2996.000000   2993.000000  2996.000000  2996.000000   \n",
       "mean       33.002676      8.238985     14.415302    74.017023    47.814085   \n",
       "std        13.348784      6.748694      7.179581    17.403415    19.824585   \n",
       "min         9.000000      0.000000      0.000000    18.000000     7.000000   \n",
       "25%        24.000000      4.000000      9.000000    61.000000    33.000000   \n",
       "50%        31.000000      7.000000     13.000000    76.000000    47.000000   \n",
       "75%        41.000000     11.000000     19.000000    88.000000    60.000000   \n",
       "max       107.000000     37.000000     50.000000   100.000000   100.000000   \n",
       "\n",
       "       Pressure9am  Pressure3pm     Cloud9am     Cloud3pm      Temp9am  \\\n",
       "count  3000.000000  2996.000000  1272.000000  1411.000000  2996.000000   \n",
       "mean   1018.335833  1015.724332     6.389151     5.423813    14.383445   \n",
       "std       7.351716     7.101547     2.390706     2.825989     6.358004   \n",
       "min     989.800000   982.900000     0.000000     1.000000     0.300000   \n",
       "25%    1013.400000  1010.700000     5.000000     2.000000     9.300000   \n",
       "50%    1018.400000  1015.600000     8.000000     7.000000    14.100000   \n",
       "75%    1023.225000  1020.500000     8.000000     8.000000    19.325000   \n",
       "max    1039.900000  1036.100000     8.000000     8.000000    34.500000   \n",
       "\n",
       "           Temp3pm      RISK_MM  \n",
       "count  2996.000000  3000.000000  \n",
       "mean     21.395360     1.920600  \n",
       "std       7.521371     6.240495  \n",
       "min       6.400000     0.000000  \n",
       "25%      15.000000     0.000000  \n",
       "50%      20.600000     0.000000  \n",
       "75%      27.200000     0.400000  \n",
       "max      43.400000   104.200000  "
      ]
     },
     "execution_count": 4,
     "metadata": {},
     "output_type": "execute_result"
    }
   ],
   "source": [
    "data.describe()"
   ]
  },
  {
   "cell_type": "code",
   "execution_count": 5,
   "metadata": {},
   "outputs": [
    {
     "data": {
      "text/html": [
       "<div>\n",
       "<style scoped>\n",
       "    .dataframe tbody tr th:only-of-type {\n",
       "        vertical-align: middle;\n",
       "    }\n",
       "\n",
       "    .dataframe tbody tr th {\n",
       "        vertical-align: top;\n",
       "    }\n",
       "\n",
       "    .dataframe thead th {\n",
       "        text-align: right;\n",
       "    }\n",
       "</style>\n",
       "<table border=\"1\" class=\"dataframe\">\n",
       "  <thead>\n",
       "    <tr style=\"text-align: right;\">\n",
       "      <th></th>\n",
       "      <th>Date</th>\n",
       "      <th>Location</th>\n",
       "      <th>MinTemp</th>\n",
       "      <th>MaxTemp</th>\n",
       "      <th>Rainfall</th>\n",
       "      <th>Evaporation</th>\n",
       "      <th>Sunshine</th>\n",
       "      <th>WindGustDir</th>\n",
       "      <th>WindGustSpeed</th>\n",
       "      <th>WindDir9am</th>\n",
       "      <th>...</th>\n",
       "      <th>Humidity3pm</th>\n",
       "      <th>Pressure9am</th>\n",
       "      <th>Pressure3pm</th>\n",
       "      <th>Cloud9am</th>\n",
       "      <th>Cloud3pm</th>\n",
       "      <th>Temp9am</th>\n",
       "      <th>Temp3pm</th>\n",
       "      <th>RainToday</th>\n",
       "      <th>RISK_MM</th>\n",
       "      <th>RainTomorrow</th>\n",
       "    </tr>\n",
       "  </thead>\n",
       "  <tbody>\n",
       "    <tr>\n",
       "      <th>0</th>\n",
       "      <td>12/1/2008</td>\n",
       "      <td>Albury</td>\n",
       "      <td>13.4</td>\n",
       "      <td>22.9</td>\n",
       "      <td>0.6</td>\n",
       "      <td>NaN</td>\n",
       "      <td>NaN</td>\n",
       "      <td>W</td>\n",
       "      <td>44.0</td>\n",
       "      <td>W</td>\n",
       "      <td>...</td>\n",
       "      <td>22.0</td>\n",
       "      <td>1007.7</td>\n",
       "      <td>1007.1</td>\n",
       "      <td>8.0</td>\n",
       "      <td>NaN</td>\n",
       "      <td>16.9</td>\n",
       "      <td>21.8</td>\n",
       "      <td>No</td>\n",
       "      <td>0.0</td>\n",
       "      <td>No</td>\n",
       "    </tr>\n",
       "    <tr>\n",
       "      <th>1</th>\n",
       "      <td>12/2/2008</td>\n",
       "      <td>Albury</td>\n",
       "      <td>7.4</td>\n",
       "      <td>25.1</td>\n",
       "      <td>0.0</td>\n",
       "      <td>NaN</td>\n",
       "      <td>NaN</td>\n",
       "      <td>WNW</td>\n",
       "      <td>44.0</td>\n",
       "      <td>NNW</td>\n",
       "      <td>...</td>\n",
       "      <td>25.0</td>\n",
       "      <td>1010.6</td>\n",
       "      <td>1007.8</td>\n",
       "      <td>NaN</td>\n",
       "      <td>NaN</td>\n",
       "      <td>17.2</td>\n",
       "      <td>24.3</td>\n",
       "      <td>No</td>\n",
       "      <td>0.0</td>\n",
       "      <td>No</td>\n",
       "    </tr>\n",
       "    <tr>\n",
       "      <th>2</th>\n",
       "      <td>12/3/2008</td>\n",
       "      <td>Albury</td>\n",
       "      <td>12.9</td>\n",
       "      <td>25.7</td>\n",
       "      <td>0.0</td>\n",
       "      <td>NaN</td>\n",
       "      <td>NaN</td>\n",
       "      <td>WSW</td>\n",
       "      <td>46.0</td>\n",
       "      <td>W</td>\n",
       "      <td>...</td>\n",
       "      <td>30.0</td>\n",
       "      <td>1007.6</td>\n",
       "      <td>1008.7</td>\n",
       "      <td>NaN</td>\n",
       "      <td>2.0</td>\n",
       "      <td>21.0</td>\n",
       "      <td>23.2</td>\n",
       "      <td>No</td>\n",
       "      <td>0.0</td>\n",
       "      <td>No</td>\n",
       "    </tr>\n",
       "    <tr>\n",
       "      <th>3</th>\n",
       "      <td>12/4/2008</td>\n",
       "      <td>Albury</td>\n",
       "      <td>9.2</td>\n",
       "      <td>28.0</td>\n",
       "      <td>0.0</td>\n",
       "      <td>NaN</td>\n",
       "      <td>NaN</td>\n",
       "      <td>NE</td>\n",
       "      <td>24.0</td>\n",
       "      <td>SE</td>\n",
       "      <td>...</td>\n",
       "      <td>16.0</td>\n",
       "      <td>1017.6</td>\n",
       "      <td>1012.8</td>\n",
       "      <td>NaN</td>\n",
       "      <td>NaN</td>\n",
       "      <td>18.1</td>\n",
       "      <td>26.5</td>\n",
       "      <td>No</td>\n",
       "      <td>1.0</td>\n",
       "      <td>No</td>\n",
       "    </tr>\n",
       "    <tr>\n",
       "      <th>4</th>\n",
       "      <td>12/5/2008</td>\n",
       "      <td>Albury</td>\n",
       "      <td>17.5</td>\n",
       "      <td>32.3</td>\n",
       "      <td>1.0</td>\n",
       "      <td>NaN</td>\n",
       "      <td>NaN</td>\n",
       "      <td>W</td>\n",
       "      <td>41.0</td>\n",
       "      <td>ENE</td>\n",
       "      <td>...</td>\n",
       "      <td>33.0</td>\n",
       "      <td>1010.8</td>\n",
       "      <td>1006.0</td>\n",
       "      <td>7.0</td>\n",
       "      <td>8.0</td>\n",
       "      <td>17.8</td>\n",
       "      <td>29.7</td>\n",
       "      <td>No</td>\n",
       "      <td>0.2</td>\n",
       "      <td>No</td>\n",
       "    </tr>\n",
       "  </tbody>\n",
       "</table>\n",
       "<p>5 rows × 24 columns</p>\n",
       "</div>"
      ],
      "text/plain": [
       "        Date Location  MinTemp  MaxTemp  Rainfall  Evaporation  Sunshine  \\\n",
       "0  12/1/2008   Albury     13.4     22.9       0.6          NaN       NaN   \n",
       "1  12/2/2008   Albury      7.4     25.1       0.0          NaN       NaN   \n",
       "2  12/3/2008   Albury     12.9     25.7       0.0          NaN       NaN   \n",
       "3  12/4/2008   Albury      9.2     28.0       0.0          NaN       NaN   \n",
       "4  12/5/2008   Albury     17.5     32.3       1.0          NaN       NaN   \n",
       "\n",
       "  WindGustDir  WindGustSpeed WindDir9am  ... Humidity3pm  Pressure9am  \\\n",
       "0           W           44.0          W  ...        22.0       1007.7   \n",
       "1         WNW           44.0        NNW  ...        25.0       1010.6   \n",
       "2         WSW           46.0          W  ...        30.0       1007.6   \n",
       "3          NE           24.0         SE  ...        16.0       1017.6   \n",
       "4           W           41.0        ENE  ...        33.0       1010.8   \n",
       "\n",
       "   Pressure3pm  Cloud9am  Cloud3pm  Temp9am  Temp3pm  RainToday  RISK_MM  \\\n",
       "0       1007.1       8.0       NaN     16.9     21.8         No      0.0   \n",
       "1       1007.8       NaN       NaN     17.2     24.3         No      0.0   \n",
       "2       1008.7       NaN       2.0     21.0     23.2         No      0.0   \n",
       "3       1012.8       NaN       NaN     18.1     26.5         No      1.0   \n",
       "4       1006.0       7.0       8.0     17.8     29.7         No      0.2   \n",
       "\n",
       "   RainTomorrow  \n",
       "0            No  \n",
       "1            No  \n",
       "2            No  \n",
       "3            No  \n",
       "4            No  \n",
       "\n",
       "[5 rows x 24 columns]"
      ]
     },
     "execution_count": 5,
     "metadata": {},
     "output_type": "execute_result"
    }
   ],
   "source": [
    "data.head()"
   ]
  },
  {
   "cell_type": "code",
   "execution_count": 6,
   "metadata": {},
   "outputs": [
    {
     "data": {
      "text/html": [
       "<div>\n",
       "<style scoped>\n",
       "    .dataframe tbody tr th:only-of-type {\n",
       "        vertical-align: middle;\n",
       "    }\n",
       "\n",
       "    .dataframe tbody tr th {\n",
       "        vertical-align: top;\n",
       "    }\n",
       "\n",
       "    .dataframe thead th {\n",
       "        text-align: right;\n",
       "    }\n",
       "</style>\n",
       "<table border=\"1\" class=\"dataframe\">\n",
       "  <thead>\n",
       "    <tr style=\"text-align: right;\">\n",
       "      <th></th>\n",
       "      <th>Date</th>\n",
       "      <th>Location</th>\n",
       "      <th>MinTemp</th>\n",
       "      <th>MaxTemp</th>\n",
       "      <th>Rainfall</th>\n",
       "      <th>Evaporation</th>\n",
       "      <th>Sunshine</th>\n",
       "      <th>WindGustDir</th>\n",
       "      <th>WindGustSpeed</th>\n",
       "      <th>WindDir9am</th>\n",
       "      <th>...</th>\n",
       "      <th>Humidity3pm</th>\n",
       "      <th>Pressure9am</th>\n",
       "      <th>Pressure3pm</th>\n",
       "      <th>Cloud9am</th>\n",
       "      <th>Cloud3pm</th>\n",
       "      <th>Temp9am</th>\n",
       "      <th>Temp3pm</th>\n",
       "      <th>RainToday</th>\n",
       "      <th>RISK_MM</th>\n",
       "      <th>RainTomorrow</th>\n",
       "    </tr>\n",
       "  </thead>\n",
       "  <tbody>\n",
       "    <tr>\n",
       "      <th>2995</th>\n",
       "      <td>6/10/2017</td>\n",
       "      <td>Albury</td>\n",
       "      <td>1.9</td>\n",
       "      <td>16.7</td>\n",
       "      <td>0.0</td>\n",
       "      <td>NaN</td>\n",
       "      <td>NaN</td>\n",
       "      <td>NW</td>\n",
       "      <td>13.0</td>\n",
       "      <td>NE</td>\n",
       "      <td>...</td>\n",
       "      <td>58.0</td>\n",
       "      <td>1034.4</td>\n",
       "      <td>1031.3</td>\n",
       "      <td>NaN</td>\n",
       "      <td>NaN</td>\n",
       "      <td>7.1</td>\n",
       "      <td>16.0</td>\n",
       "      <td>No</td>\n",
       "      <td>0.0</td>\n",
       "      <td>No</td>\n",
       "    </tr>\n",
       "    <tr>\n",
       "      <th>2996</th>\n",
       "      <td>6/11/2017</td>\n",
       "      <td>Albury</td>\n",
       "      <td>1.4</td>\n",
       "      <td>16.6</td>\n",
       "      <td>0.0</td>\n",
       "      <td>NaN</td>\n",
       "      <td>NaN</td>\n",
       "      <td>ENE</td>\n",
       "      <td>13.0</td>\n",
       "      <td>NE</td>\n",
       "      <td>...</td>\n",
       "      <td>60.0</td>\n",
       "      <td>1031.1</td>\n",
       "      <td>1026.5</td>\n",
       "      <td>1.0</td>\n",
       "      <td>NaN</td>\n",
       "      <td>6.6</td>\n",
       "      <td>16.3</td>\n",
       "      <td>No</td>\n",
       "      <td>0.2</td>\n",
       "      <td>No</td>\n",
       "    </tr>\n",
       "    <tr>\n",
       "      <th>2997</th>\n",
       "      <td>6/12/2017</td>\n",
       "      <td>Albury</td>\n",
       "      <td>1.9</td>\n",
       "      <td>15.1</td>\n",
       "      <td>0.2</td>\n",
       "      <td>NaN</td>\n",
       "      <td>NaN</td>\n",
       "      <td>W</td>\n",
       "      <td>17.0</td>\n",
       "      <td>SSE</td>\n",
       "      <td>...</td>\n",
       "      <td>70.0</td>\n",
       "      <td>1029.1</td>\n",
       "      <td>1026.4</td>\n",
       "      <td>8.0</td>\n",
       "      <td>NaN</td>\n",
       "      <td>5.1</td>\n",
       "      <td>14.8</td>\n",
       "      <td>No</td>\n",
       "      <td>0.2</td>\n",
       "      <td>No</td>\n",
       "    </tr>\n",
       "    <tr>\n",
       "      <th>2998</th>\n",
       "      <td>6/13/2017</td>\n",
       "      <td>Albury</td>\n",
       "      <td>3.3</td>\n",
       "      <td>15.9</td>\n",
       "      <td>0.2</td>\n",
       "      <td>NaN</td>\n",
       "      <td>NaN</td>\n",
       "      <td>SE</td>\n",
       "      <td>17.0</td>\n",
       "      <td>NaN</td>\n",
       "      <td>...</td>\n",
       "      <td>67.0</td>\n",
       "      <td>1031.3</td>\n",
       "      <td>1029.8</td>\n",
       "      <td>1.0</td>\n",
       "      <td>NaN</td>\n",
       "      <td>6.6</td>\n",
       "      <td>15.4</td>\n",
       "      <td>No</td>\n",
       "      <td>0.2</td>\n",
       "      <td>No</td>\n",
       "    </tr>\n",
       "    <tr>\n",
       "      <th>2999</th>\n",
       "      <td>6/14/2017</td>\n",
       "      <td>Albury</td>\n",
       "      <td>1.6</td>\n",
       "      <td>15.3</td>\n",
       "      <td>0.2</td>\n",
       "      <td>NaN</td>\n",
       "      <td>NaN</td>\n",
       "      <td>SE</td>\n",
       "      <td>17.0</td>\n",
       "      <td>NaN</td>\n",
       "      <td>...</td>\n",
       "      <td>69.0</td>\n",
       "      <td>1032.0</td>\n",
       "      <td>1029.0</td>\n",
       "      <td>NaN</td>\n",
       "      <td>NaN</td>\n",
       "      <td>5.6</td>\n",
       "      <td>15.0</td>\n",
       "      <td>No</td>\n",
       "      <td>0.0</td>\n",
       "      <td>No</td>\n",
       "    </tr>\n",
       "  </tbody>\n",
       "</table>\n",
       "<p>5 rows × 24 columns</p>\n",
       "</div>"
      ],
      "text/plain": [
       "           Date Location  MinTemp  MaxTemp  Rainfall  Evaporation  Sunshine  \\\n",
       "2995  6/10/2017   Albury      1.9     16.7       0.0          NaN       NaN   \n",
       "2996  6/11/2017   Albury      1.4     16.6       0.0          NaN       NaN   \n",
       "2997  6/12/2017   Albury      1.9     15.1       0.2          NaN       NaN   \n",
       "2998  6/13/2017   Albury      3.3     15.9       0.2          NaN       NaN   \n",
       "2999  6/14/2017   Albury      1.6     15.3       0.2          NaN       NaN   \n",
       "\n",
       "     WindGustDir  WindGustSpeed WindDir9am  ... Humidity3pm  Pressure9am  \\\n",
       "2995          NW           13.0         NE  ...        58.0       1034.4   \n",
       "2996         ENE           13.0         NE  ...        60.0       1031.1   \n",
       "2997           W           17.0        SSE  ...        70.0       1029.1   \n",
       "2998          SE           17.0        NaN  ...        67.0       1031.3   \n",
       "2999          SE           17.0        NaN  ...        69.0       1032.0   \n",
       "\n",
       "      Pressure3pm  Cloud9am  Cloud3pm  Temp9am  Temp3pm  RainToday  RISK_MM  \\\n",
       "2995       1031.3       NaN       NaN      7.1     16.0         No      0.0   \n",
       "2996       1026.5       1.0       NaN      6.6     16.3         No      0.2   \n",
       "2997       1026.4       8.0       NaN      5.1     14.8         No      0.2   \n",
       "2998       1029.8       1.0       NaN      6.6     15.4         No      0.2   \n",
       "2999       1029.0       NaN       NaN      5.6     15.0         No      0.0   \n",
       "\n",
       "      RainTomorrow  \n",
       "2995            No  \n",
       "2996            No  \n",
       "2997            No  \n",
       "2998            No  \n",
       "2999            No  \n",
       "\n",
       "[5 rows x 24 columns]"
      ]
     },
     "execution_count": 6,
     "metadata": {},
     "output_type": "execute_result"
    }
   ],
   "source": [
    "data.tail()"
   ]
  },
  {
   "cell_type": "code",
   "execution_count": 7,
   "metadata": {},
   "outputs": [
    {
     "data": {
      "text/plain": [
       "Date              object\n",
       "Location          object\n",
       "MinTemp          float64\n",
       "MaxTemp          float64\n",
       "Rainfall         float64\n",
       "Evaporation      float64\n",
       "Sunshine         float64\n",
       "WindGustDir       object\n",
       "WindGustSpeed    float64\n",
       "WindDir9am        object\n",
       "WindDir3pm        object\n",
       "WindSpeed9am     float64\n",
       "WindSpeed3pm     float64\n",
       "Humidity9am      float64\n",
       "Humidity3pm      float64\n",
       "Pressure9am      float64\n",
       "Pressure3pm      float64\n",
       "Cloud9am         float64\n",
       "Cloud3pm         float64\n",
       "Temp9am          float64\n",
       "Temp3pm          float64\n",
       "RainToday         object\n",
       "RISK_MM          float64\n",
       "RainTomorrow      object\n",
       "dtype: object"
      ]
     },
     "execution_count": 7,
     "metadata": {},
     "output_type": "execute_result"
    }
   ],
   "source": [
    "data.dtypes"
   ]
  },
  {
   "cell_type": "markdown",
   "metadata": {},
   "source": [
    "## Checking for missing values and imputing"
   ]
  },
  {
   "cell_type": "code",
   "execution_count": 8,
   "metadata": {},
   "outputs": [
    {
     "data": {
      "text/plain": [
       "Date                0\n",
       "Location            0\n",
       "MinTemp             6\n",
       "MaxTemp             1\n",
       "Rainfall           20\n",
       "Evaporation      3000\n",
       "Sunshine         3000\n",
       "WindGustDir        10\n",
       "WindGustSpeed      10\n",
       "WindDir9am        514\n",
       "WindDir3pm         39\n",
       "WindSpeed9am        4\n",
       "WindSpeed3pm        7\n",
       "Humidity9am         4\n",
       "Humidity3pm         4\n",
       "Pressure9am         0\n",
       "Pressure3pm         4\n",
       "Cloud9am         1728\n",
       "Cloud3pm         1589\n",
       "Temp9am             4\n",
       "Temp3pm             4\n",
       "RainToday          20\n",
       "RISK_MM             0\n",
       "RainTomorrow        0\n",
       "dtype: int64"
      ]
     },
     "execution_count": 8,
     "metadata": {},
     "output_type": "execute_result"
    }
   ],
   "source": [
    "data.isnull().sum()"
   ]
  },
  {
   "cell_type": "code",
   "execution_count": 9,
   "metadata": {},
   "outputs": [],
   "source": [
    "data.drop([\"Evaporation\",\"Sunshine\",\"Cloud9am\",\"Cloud3pm\"], axis = 1, inplace = True) "
   ]
  },
  {
   "cell_type": "code",
   "execution_count": 10,
   "metadata": {},
   "outputs": [],
   "source": [
    "data[\"MinTemp\"].fillna(data[\"MinTemp\"].mean(), inplace = True)\n",
    "data[\"MaxTemp\"].fillna(data[\"MaxTemp\"].mean(), inplace = True)\n",
    "data[\"Rainfall\"].fillna(data[\"Rainfall\"].mean(), inplace = True)\n",
    "data[\"WindGustSpeed\"].fillna(data[\"WindGustSpeed\"].mean(), inplace = True)\n",
    "data[\"WindSpeed9am\"].fillna(data[\"WindSpeed9am\"].mean(), inplace = True)\n",
    "data[\"WindSpeed3pm\"].fillna(data[\"WindSpeed3pm\"].mean(), inplace = True)\n",
    "data[\"Humidity9am\"].fillna(data[\"Humidity9am\"].mean(), inplace = True)\n",
    "data[\"Humidity3pm\"].fillna(data[\"Humidity3pm\"].mean(), inplace = True)\n",
    "data[\"Pressure3pm\"].fillna(data[\"Pressure3pm\"].mean(), inplace = True)\n",
    "data[\"Temp9am\"].fillna(data[\"Temp9am\"].mean(), inplace = True)\n",
    "data[\"Temp3pm\"].fillna(data[\"Temp3pm\"].mean(), inplace = True)\n",
    "data[\"WindGustDir\"].fillna(\"NW\", inplace = True)\n",
    "data[\"WindDir9am\"].fillna(\"NWW\", inplace = True)\n",
    "data[\"WindDir3pm\"].fillna(\"SE\", inplace = True)\n",
    "data[\"RainToday\"].fillna(\"Yes\", inplace = True)"
   ]
  },
  {
   "cell_type": "code",
   "execution_count": 11,
   "metadata": {},
   "outputs": [
    {
     "data": {
      "text/plain": [
       "Date             0\n",
       "Location         0\n",
       "MinTemp          0\n",
       "MaxTemp          0\n",
       "Rainfall         0\n",
       "WindGustDir      0\n",
       "WindGustSpeed    0\n",
       "WindDir9am       0\n",
       "WindDir3pm       0\n",
       "WindSpeed9am     0\n",
       "WindSpeed3pm     0\n",
       "Humidity9am      0\n",
       "Humidity3pm      0\n",
       "Pressure9am      0\n",
       "Pressure3pm      0\n",
       "Temp9am          0\n",
       "Temp3pm          0\n",
       "RainToday        0\n",
       "RISK_MM          0\n",
       "RainTomorrow     0\n",
       "dtype: int64"
      ]
     },
     "execution_count": 11,
     "metadata": {},
     "output_type": "execute_result"
    }
   ],
   "source": [
    "data.isnull().sum()"
   ]
  },
  {
   "cell_type": "code",
   "execution_count": 12,
   "metadata": {},
   "outputs": [
    {
     "data": {
      "text/plain": [
       "(3000, 20)"
      ]
     },
     "execution_count": 12,
     "metadata": {},
     "output_type": "execute_result"
    }
   ],
   "source": [
    "data.shape"
   ]
  },
  {
   "cell_type": "code",
   "execution_count": 13,
   "metadata": {},
   "outputs": [
    {
     "data": {
      "image/png": "[encoded data removed]",
      "text/plain": [
       "<Figure size 864x720 with 2 Axes>"
      ]
     },
     "metadata": {
      "needs_background": "light"
     },
     "output_type": "display_data"
    }
   ],
   "source": [
    "plt.figure(figsize=(12,10))\n",
    "cor = data.corr()\n",
    "sns.heatmap(cor, annot=True, cmap=plt.cm.Reds)\n",
    "plt.show()"
   ]
  },
  {
   "cell_type": "code",
   "execution_count": 14,
   "metadata": {},
   "outputs": [],
   "source": [
    "from sklearn import preprocessing\n",
    "le = preprocessing.LabelEncoder()\n",
    "data[\"loc_encoded\"]=le.fit_transform(data[\"Location\"])\n",
    "data[\"rain_encoded\"]=le.fit_transform(data[\"RainToday\"])\n",
    "data[\"WindGust_encoded\"]=le.fit_transform(data[\"WindGustDir\"])\n",
    "data[\"Dir9am_encoded\"]=le.fit_transform(data[\"WindDir9am\"])\n",
    "data[\"Dir3pm_encoded\"]=le.fit_transform(data[\"WindDir3pm\"])\n",
    "data[\"RainTom\"]=le.fit_transform(data[\"RainTomorrow\"])"
   ]
  },
  {
   "cell_type": "code",
   "execution_count": 15,
   "metadata": {},
   "outputs": [],
   "source": [
    "data['loc_encoded'] = data['loc_encoded'].astype(float)\n",
    "data['rain_encoded'] = data['rain_encoded'].astype(float)\n",
    "data['WindGust_encoded'] = data['WindGust_encoded'].astype(float)\n",
    "data['Dir9am_encoded'] = data['Dir9am_encoded'].astype(float)\n",
    "data['Dir3pm_encoded'] = data['Dir3pm_encoded'].astype(float)\n",
    "\n",
    "data.drop(['Date','Location','RainToday','RainTomorrow','WindGustDir','WindDir9am','WindDir3pm'],axis=1,inplace=True)"
   ]
  },
  {
   "cell_type": "code",
   "execution_count": 16,
   "metadata": {},
   "outputs": [
    {
     "data": {
      "text/plain": [
       "array([[13.4, 22.9,  0.6, ..., 13. , 14. , 14. ],\n",
       "       [ 7.4, 25.1,  0. , ..., 14. ,  6. , 15. ],\n",
       "       [12.9, 25.7,  0. , ..., 15. , 14. , 15. ],\n",
       "       ...,\n",
       "       [ 1.9, 15.1,  0.2, ..., 13. , 11. , 13. ],\n",
       "       [ 3.3, 15.9,  0.2, ...,  9. ,  8. ,  2. ],\n",
       "       [ 1.6, 15.3,  0.2, ...,  9. ,  8. ,  9. ]])"
      ]
     },
     "execution_count": 16,
     "metadata": {},
     "output_type": "execute_result"
    }
   ],
   "source": [
    "X = data.drop('RainTom',axis=1).values\n",
    "y = data.RainTom.values\n",
    "X"
   ]
  },
  {
   "cell_type": "code",
   "execution_count": 17,
   "metadata": {},
   "outputs": [
    {
     "data": {
      "text/plain": [
       "array([[ 6.1, 20.4,  0. , ...,  4. , 10. ,  5. ],\n",
       "       [12.4, 29.4,  0. , ..., 10. , 11. ,  9. ],\n",
       "       [11.2, 24.3,  0. , ..., 14. , 14. , 14. ],\n",
       "       ...,\n",
       "       [10.3, 16.7,  0.8, ..., 13. , 15. , 13. ],\n",
       "       [13.6, 20.2,  0.2, ..., 13. ,  7. ,  7. ],\n",
       "       [ 8.3, 13.6, 10.8, ...,  6. , 14. ,  7. ]])"
      ]
     },
     "execution_count": 17,
     "metadata": {},
     "output_type": "execute_result"
    }
   ],
   "source": [
    "from sklearn.model_selection import train_test_split\n",
    "X_train_org, X_test_org, y_train, y_test = train_test_split(X, y, random_state = 0, test_size = 0.2)\n",
    "X_train_org"
   ]
  },
  {
   "cell_type": "code",
   "execution_count": 18,
   "metadata": {},
   "outputs": [
    {
     "data": {
      "text/plain": [
       "array([[0.23794212, 0.32105263, 0.        , ..., 0.6       , 0.625     ,\n",
       "        0.53333333],\n",
       "       [0.40514469, 0.6       , 0.        , ..., 0.8       , 0.125     ,\n",
       "        0.6       ],\n",
       "       [0.23151125, 0.12894737, 0.        , ..., 0.2       , 0.1875    ,\n",
       "        0.4       ],\n",
       "       ...,\n",
       "       [0.27009646, 0.33947368, 0.        , ..., 0.46666667, 0.5625    ,\n",
       "        0.4       ],\n",
       "       [0.62057878, 0.52894737, 0.00383877, ..., 0.73333333, 0.5       ,\n",
       "        1.        ],\n",
       "       [0.15434084, 0.10789474, 0.0134357 , ..., 0.8       , 1.        ,\n",
       "        0.93333333]])"
      ]
     },
     "execution_count": 18,
     "metadata": {},
     "output_type": "execute_result"
    }
   ],
   "source": [
    "from sklearn.preprocessing import MinMaxScaler\n",
    "\n",
    "scaler = MinMaxScaler()\n",
    "X_train = scaler.fit_transform(X_train_org)\n",
    "X_test = scaler.transform(X_test_org)\n",
    "X_test"
   ]
  },
  {
   "cell_type": "code",
   "execution_count": 19,
   "metadata": {},
   "outputs": [
    {
     "data": {
      "text/plain": [
       "(2400, 18)"
      ]
     },
     "execution_count": 19,
     "metadata": {},
     "output_type": "execute_result"
    }
   ],
   "source": [
    "X_train_org.shape"
   ]
  },
  {
   "cell_type": "code",
   "execution_count": 20,
   "metadata": {},
   "outputs": [
    {
     "data": {
      "text/plain": [
       "(600, 18)"
      ]
     },
     "execution_count": 20,
     "metadata": {},
     "output_type": "execute_result"
    }
   ],
   "source": [
    "X_test_org.shape"
   ]
  },
  {
   "cell_type": "code",
   "execution_count": 21,
   "metadata": {},
   "outputs": [
    {
     "data": {
      "text/plain": [
       "(2400,)"
      ]
     },
     "execution_count": 21,
     "metadata": {},
     "output_type": "execute_result"
    }
   ],
   "source": [
    "y_train.shape"
   ]
  },
  {
   "cell_type": "code",
   "execution_count": 22,
   "metadata": {},
   "outputs": [
    {
     "data": {
      "text/plain": [
       "(600,)"
      ]
     },
     "execution_count": 22,
     "metadata": {},
     "output_type": "execute_result"
    }
   ],
   "source": [
    "y_test.shape"
   ]
  },
  {
   "cell_type": "markdown",
   "metadata": {},
   "source": [
    "## Logistic Regression"
   ]
  },
  {
   "cell_type": "code",
   "execution_count": 23,
   "metadata": {},
   "outputs": [
    {
     "name": "stderr",
     "output_type": "stream",
     "text": [
      "C:\\Users\\dhurv\\Anaconda3\\lib\\site-packages\\sklearn\\svm\\base.py:929: ConvergenceWarning: Liblinear failed to converge, increase the number of iterations.\n",
      "  \"the number of iterations.\", ConvergenceWarning)\n",
      "C:\\Users\\dhurv\\Anaconda3\\lib\\site-packages\\sklearn\\svm\\base.py:929: ConvergenceWarning: Liblinear failed to converge, increase the number of iterations.\n",
      "  \"the number of iterations.\", ConvergenceWarning)\n",
      "C:\\Users\\dhurv\\Anaconda3\\lib\\site-packages\\sklearn\\svm\\base.py:929: ConvergenceWarning: Liblinear failed to converge, increase the number of iterations.\n",
      "  \"the number of iterations.\", ConvergenceWarning)\n",
      "C:\\Users\\dhurv\\Anaconda3\\lib\\site-packages\\sklearn\\svm\\base.py:929: ConvergenceWarning: Liblinear failed to converge, increase the number of iterations.\n",
      "  \"the number of iterations.\", ConvergenceWarning)\n",
      "C:\\Users\\dhurv\\Anaconda3\\lib\\site-packages\\sklearn\\svm\\base.py:929: ConvergenceWarning: Liblinear failed to converge, increase the number of iterations.\n",
      "  \"the number of iterations.\", ConvergenceWarning)\n",
      "C:\\Users\\dhurv\\Anaconda3\\lib\\site-packages\\sklearn\\svm\\base.py:929: ConvergenceWarning: Liblinear failed to converge, increase the number of iterations.\n",
      "  \"the number of iterations.\", ConvergenceWarning)\n",
      "C:\\Users\\dhurv\\Anaconda3\\lib\\site-packages\\sklearn\\svm\\base.py:929: ConvergenceWarning: Liblinear failed to converge, increase the number of iterations.\n",
      "  \"the number of iterations.\", ConvergenceWarning)\n",
      "C:\\Users\\dhurv\\Anaconda3\\lib\\site-packages\\sklearn\\svm\\base.py:929: ConvergenceWarning: Liblinear failed to converge, increase the number of iterations.\n",
      "  \"the number of iterations.\", ConvergenceWarning)\n",
      "C:\\Users\\dhurv\\Anaconda3\\lib\\site-packages\\sklearn\\svm\\base.py:929: ConvergenceWarning: Liblinear failed to converge, increase the number of iterations.\n",
      "  \"the number of iterations.\", ConvergenceWarning)\n",
      "C:\\Users\\dhurv\\Anaconda3\\lib\\site-packages\\sklearn\\svm\\base.py:929: ConvergenceWarning: Liblinear failed to converge, increase the number of iterations.\n",
      "  \"the number of iterations.\", ConvergenceWarning)\n",
      "C:\\Users\\dhurv\\Anaconda3\\lib\\site-packages\\sklearn\\svm\\base.py:929: ConvergenceWarning: Liblinear failed to converge, increase the number of iterations.\n",
      "  \"the number of iterations.\", ConvergenceWarning)\n",
      "C:\\Users\\dhurv\\Anaconda3\\lib\\site-packages\\sklearn\\svm\\base.py:929: ConvergenceWarning: Liblinear failed to converge, increase the number of iterations.\n",
      "  \"the number of iterations.\", ConvergenceWarning)\n",
      "C:\\Users\\dhurv\\Anaconda3\\lib\\site-packages\\sklearn\\svm\\base.py:929: ConvergenceWarning: Liblinear failed to converge, increase the number of iterations.\n",
      "  \"the number of iterations.\", ConvergenceWarning)\n",
      "C:\\Users\\dhurv\\Anaconda3\\lib\\site-packages\\sklearn\\svm\\base.py:929: ConvergenceWarning: Liblinear failed to converge, increase the number of iterations.\n",
      "  \"the number of iterations.\", ConvergenceWarning)\n",
      "C:\\Users\\dhurv\\Anaconda3\\lib\\site-packages\\sklearn\\svm\\base.py:929: ConvergenceWarning: Liblinear failed to converge, increase the number of iterations.\n",
      "  \"the number of iterations.\", ConvergenceWarning)\n",
      "C:\\Users\\dhurv\\Anaconda3\\lib\\site-packages\\sklearn\\svm\\base.py:929: ConvergenceWarning: Liblinear failed to converge, increase the number of iterations.\n",
      "  \"the number of iterations.\", ConvergenceWarning)\n",
      "C:\\Users\\dhurv\\Anaconda3\\lib\\site-packages\\sklearn\\svm\\base.py:929: ConvergenceWarning: Liblinear failed to converge, increase the number of iterations.\n",
      "  \"the number of iterations.\", ConvergenceWarning)\n",
      "C:\\Users\\dhurv\\Anaconda3\\lib\\site-packages\\sklearn\\svm\\base.py:929: ConvergenceWarning: Liblinear failed to converge, increase the number of iterations.\n",
      "  \"the number of iterations.\", ConvergenceWarning)\n",
      "C:\\Users\\dhurv\\Anaconda3\\lib\\site-packages\\sklearn\\svm\\base.py:929: ConvergenceWarning: Liblinear failed to converge, increase the number of iterations.\n",
      "  \"the number of iterations.\", ConvergenceWarning)\n",
      "C:\\Users\\dhurv\\Anaconda3\\lib\\site-packages\\sklearn\\svm\\base.py:929: ConvergenceWarning: Liblinear failed to converge, increase the number of iterations.\n",
      "  \"the number of iterations.\", ConvergenceWarning)\n"
     ]
    },
    {
     "data": {
      "text/plain": [
       "GridSearchCV(cv=6, error_score='raise-deprecating',\n",
       "             estimator=LogisticRegression(C=1.0, class_weight=None, dual=False,\n",
       "                                          fit_intercept=True,\n",
       "                                          intercept_scaling=1, l1_ratio=None,\n",
       "                                          max_iter=100, multi_class='warn',\n",
       "                                          n_jobs=None, penalty='l2',\n",
       "                                          random_state=None, solver='warn',\n",
       "                                          tol=0.0001, verbose=0,\n",
       "                                          warm_start=False),\n",
       "             iid='warn', n_jobs=None,\n",
       "             param_grid={'C': [0.001, 0.01, 0.1, 1, 10, 100],\n",
       "                         'penalty': ['l1', 'l2']},\n",
       "             pre_dispatch='2*n_jobs', refit=True, return_train_score=True,\n",
       "             scoring=None, verbose=0)"
      ]
     },
     "execution_count": 23,
     "metadata": {},
     "output_type": "execute_result"
    }
   ],
   "source": [
    "log_clf = LogisticRegression()\n",
    "penalty = ['l1', 'l2']\n",
    "C = [0.001,0.01,0.1,1,10,100]\n",
    "parameters = dict(C=C, penalty=penalty)\n",
    "\n",
    "grid_search = GridSearchCV(log_clf,parameters, cv=6, return_train_score=True)\n",
    "X_train1, X_test1, y_train1, y_test1 = train_test_split(X, y, random_state=0)\n",
    "grid_search.fit(X_train1, y_train1)"
   ]
  },
  {
   "cell_type": "code",
   "execution_count": 24,
   "metadata": {},
   "outputs": [
    {
     "name": "stdout",
     "output_type": "stream",
     "text": [
      "Best parameters: {'C': 10, 'penalty': 'l1'}\n",
      "Best cross-validation score: 1.00\n"
     ]
    }
   ],
   "source": [
    "print(\"Best parameters: {}\".format(grid_search.best_params_))\n",
    "print(\"Best cross-validation score: {:.2f}\".format(grid_search.best_score_))"
   ]
  },
  {
   "cell_type": "code",
   "execution_count": 25,
   "metadata": {},
   "outputs": [
    {
     "name": "stdout",
     "output_type": "stream",
     "text": [
      "0.97375\n",
      "0.9716666666666667\n"
     ]
    }
   ],
   "source": [
    "log_l1 = LogisticRegression(penalty = 'l1', C = 1)\n",
    "log_l1.fit(X_train, y_train)\n",
    "#log_l2.fit(X_train, y_train)\n",
    "print(log_l1.score(X_train, y_train))\n",
    "#test_score_l1.append(log_l1.score(X_test, y_test))\n",
    "print(log_l1.score(X_test, y_test))"
   ]
  },
  {
   "cell_type": "code",
   "execution_count": 26,
   "metadata": {},
   "outputs": [
    {
     "data": {
      "text/plain": [
       "LogisticRegression(C=1, class_weight=None, dual=False, fit_intercept=True,\n",
       "                   intercept_scaling=1, l1_ratio=None, max_iter=100,\n",
       "                   multi_class='warn', n_jobs=None, penalty='l2',\n",
       "                   random_state=None, solver='warn', tol=0.0001, verbose=0,\n",
       "                   warm_start=False)"
      ]
     },
     "execution_count": 26,
     "metadata": {},
     "output_type": "execute_result"
    }
   ],
   "source": [
    "log_clf = LogisticRegression(C=1)\n",
    "log_clf.fit(X_train, y_train)"
   ]
  },
  {
   "cell_type": "code",
   "execution_count": 27,
   "metadata": {},
   "outputs": [
    {
     "name": "stdout",
     "output_type": "stream",
     "text": [
      "Cross-validation scores:\n",
      "[0.975  0.97   0.97   0.9725 0.9625 0.9575]\n",
      "0.9679166666666669\n"
     ]
    }
   ],
   "source": [
    "from sklearn.model_selection import KFold\n",
    "from sklearn.model_selection import cross_val_score\n",
    "log_l1 = LogisticRegression(penalty = 'l1', C = 1)\n",
    "kfold = KFold(n_splits=6)\n",
    "print(\"Cross-validation scores:\\n{}\".format(cross_val_score(log_l1 , X_train, y_train, cv=kfold)))\n",
    "scores = cross_val_score(log_l1 , X_train, y_train, cv=kfold)\n",
    "print(np.mean(scores))"
   ]
  },
  {
   "cell_type": "code",
   "execution_count": 28,
   "metadata": {},
   "outputs": [
    {
     "name": "stdout",
     "output_type": "stream",
     "text": [
      "0.9251101321585904\n",
      "[[478  16]\n",
      " [  1 105]]\n"
     ]
    }
   ],
   "source": [
    "from sklearn.metrics import f1_score\n",
    "from sklearn.metrics import confusion_matrix\n",
    "\n",
    "from sklearn.metrics import f1_score\n",
    "log_l1 = LogisticRegression(penalty = 'l1', C = 1)\n",
    "log_l1.fit(X_train, y_train)\n",
    "ypred = log_l1.predict(X_test)\n",
    "ft = f1_score(ypred,y_test)\n",
    "cm = confusion_matrix(ypred,y_test)\n",
    "print(ft)\n",
    "print(cm)"
   ]
  },
  {
   "cell_type": "markdown",
   "metadata": {},
   "source": [
    "### Logistic Regression Summary:\n",
    "\n",
    "#### Train Score: 0.9738\n",
    "\n",
    "#### Test Score: 0.9712\n",
    "\n",
    "####  Cross - Validation Score: 1.0\n",
    "\n",
    "#### Best Parameters: {'C': 1, 'penalty': 'l1'}\n",
    "\n",
    "#### F1 Score: 0.9251"
   ]
  },
  {
   "cell_type": "markdown",
   "metadata": {},
   "source": [
    "## KNN Classifier"
   ]
  },
  {
   "cell_type": "code",
   "execution_count": 29,
   "metadata": {},
   "outputs": [],
   "source": [
    "from sklearn.neighbors import KNeighborsClassifier\n",
    "\n",
    "train_score_array = []\n",
    "test_score_array = []\n",
    "\n",
    "for k in range(1,20):\n",
    "    knn = KNeighborsClassifier(k)\n",
    "    knn.fit(X_train, y_train)\n",
    "    train_score_array.append(knn.score(X_train, y_train))\n",
    "    test_score_array.append(knn.score(X_test, y_test))"
   ]
  },
  {
   "cell_type": "code",
   "execution_count": 30,
   "metadata": {},
   "outputs": [
    {
     "data": {
      "text/plain": [
       "<matplotlib.legend.Legend at 0x22d9b3962e8>"
      ]
     },
     "execution_count": 30,
     "metadata": {},
     "output_type": "execute_result"
    },
    {
     "data": {
      "image/png": "[encoded data removed]",
      "text/plain": [
       "<Figure size 432x288 with 1 Axes>"
      ]
     },
     "metadata": {
      "needs_background": "light"
     },
     "output_type": "display_data"
    }
   ],
   "source": [
    "import matplotlib.pyplot as plt\n",
    "x_axis = range(1,20)\n",
    "%matplotlib inline\n",
    "plt.plot(x_axis, train_score_array, label = 'Train Score')\n",
    "plt.plot(x_axis, test_score_array, label = 'Test Score')\n",
    "plt.xlabel('k')\n",
    "plt.ylabel('Accuracy')\n",
    "plt.legend()"
   ]
  },
  {
   "cell_type": "code",
   "execution_count": 31,
   "metadata": {},
   "outputs": [
    {
     "name": "stdout",
     "output_type": "stream",
     "text": [
      "Train score: 0.8788\n",
      "Test score: 0.8767\n"
     ]
    }
   ],
   "source": [
    "knn = KNeighborsClassifier(13)\n",
    "knn.fit(X_train, y_train)\n",
    "print('Train score: {:.4f}'.format(knn.score(X_train, y_train)))\n",
    "print('Test score: {:.4f}'.format(knn.score(X_test, y_test)))"
   ]
  },
  {
   "cell_type": "code",
   "execution_count": 32,
   "metadata": {},
   "outputs": [
    {
     "name": "stdout",
     "output_type": "stream",
     "text": [
      "Fitting 3 folds for each of 6 candidates, totalling 18 fits\n"
     ]
    },
    {
     "name": "stderr",
     "output_type": "stream",
     "text": [
      "[Parallel(n_jobs=-1)]: Using backend LokyBackend with 8 concurrent workers.\n"
     ]
    },
    {
     "name": "stdout",
     "output_type": "stream",
     "text": [
      "Best parameters: {'n_neighbors': 5}\n",
      "Best cross-validation score: 0.86\n"
     ]
    },
    {
     "name": "stderr",
     "output_type": "stream",
     "text": [
      "[Parallel(n_jobs=-1)]: Done  18 out of  18 | elapsed:    3.3s finished\n"
     ]
    }
   ],
   "source": [
    "from sklearn.model_selection import GridSearchCV\n",
    "\n",
    "grid_parms_knn = {'n_neighbors':[1,5,10,15,20,25]}\n",
    "knn = KNeighborsClassifier()\n",
    "grid_search = GridSearchCV(KNeighborsClassifier(), grid_parms_knn,verbose = 1,cv = 3, n_jobs=-1)\n",
    "grid_search.fit(X_train, y_train)\n",
    "print(\"Best parameters: {}\".format(grid_search.best_params_))\n",
    "print(\"Best cross-validation score: {:.2f}\".format(grid_search.best_score_))"
   ]
  },
  {
   "cell_type": "code",
   "execution_count": 33,
   "metadata": {},
   "outputs": [
    {
     "name": "stdout",
     "output_type": "stream",
     "text": [
      "Cross-validation scores:\n",
      "[0.86486486 0.87567568 0.86486486 0.92432432 0.83243243 0.87567568\n",
      " 0.82162162 0.88108108 0.86956522 0.84782609 0.85326087 0.84782609\n",
      " 0.88043478]\n",
      "0.8645733526168308\n"
     ]
    }
   ],
   "source": [
    "from sklearn.model_selection import KFold\n",
    "from sklearn.model_selection import cross_val_score\n",
    "\n",
    "kfold = KFold(n_splits=13)\n",
    "print(\"Cross-validation scores:\\n{}\".format(cross_val_score(knn , X_train, y_train, cv=kfold)))\n",
    "scores = cross_val_score(knn , X_train, y_train, cv=kfold)\n",
    "print(np.mean(scores))"
   ]
  },
  {
   "cell_type": "code",
   "execution_count": 34,
   "metadata": {},
   "outputs": [
    {
     "name": "stdout",
     "output_type": "stream",
     "text": [
      "[[470  68]\n",
      " [  9  53]]\n",
      "0.5792349726775956\n"
     ]
    }
   ],
   "source": [
    "from sklearn.metrics import f1_score\n",
    "from sklearn.metrics import confusion_matrix\n",
    " \n",
    "knn = KNeighborsClassifier(20)\n",
    "knn.fit(X_train, y_train)\n",
    "ypred = knn.predict(X_test)\n",
    "cm = confusion_matrix(ypred,y_test)\n",
    "f = f1_score(ypred,y_test)\n",
    "print(cm)\n",
    "print(f)"
   ]
  },
  {
   "cell_type": "markdown",
   "metadata": {},
   "source": [
    "### KNN Classifier Summary:\n",
    "\n",
    "#### Train Score: 0.8788\n",
    "\n",
    "#### Test Score: 0.8767\n",
    "\n",
    "#### Cross - Validation Score: 0.86\n",
    "\n",
    "#### Best Parameters: {'n_neighbors': 5}\n",
    "\n",
    "#### F1 Score: 0.5792"
   ]
  },
  {
   "cell_type": "markdown",
   "metadata": {},
   "source": [
    "## Decision Tree"
   ]
  },
  {
   "cell_type": "code",
   "execution_count": 35,
   "metadata": {},
   "outputs": [
    {
     "name": "stdout",
     "output_type": "stream",
     "text": [
      "Accuracy on training set: 1.000\n",
      "Accuracy on test set: 1.000\n",
      "Accuracy on training set: 1.000\n",
      "Accuracy on test set: 1.000\n",
      "Accuracy on training set: 1.000\n",
      "Accuracy on test set: 1.000\n",
      "Accuracy on training set: 1.000\n",
      "Accuracy on test set: 1.000\n",
      "Accuracy on training set: 1.000\n",
      "Accuracy on test set: 1.000\n",
      "Accuracy on training set: 1.000\n",
      "Accuracy on test set: 1.000\n",
      "Accuracy on training set: 1.000\n",
      "Accuracy on test set: 1.000\n",
      "Accuracy on training set: 1.000\n",
      "Accuracy on test set: 1.000\n",
      "Accuracy on training set: 1.000\n",
      "Accuracy on test set: 1.000\n"
     ]
    }
   ],
   "source": [
    "from sklearn.tree import DecisionTreeClassifier\n",
    "\n",
    "for i in range(1,10):\n",
    "    dtree_clf = DecisionTreeClassifier(max_depth=i, random_state=0)\n",
    "    dtree_clf.fit(X_train, y_train)\n",
    "    train= dtree_clf.score(X_train, y_train)\n",
    "    test = dtree_clf.score(X_test, y_test)\n",
    "    print(\"Accuracy on training set: {:.3f}\".format(dtree_clf.score(X_train, y_train)))\n",
    "    print(\"Accuracy on test set: {:.3f}\".format(dtree_clf.score(X_test, y_test)))"
   ]
  },
  {
   "cell_type": "code",
   "execution_count": 36,
   "metadata": {},
   "outputs": [],
   "source": [
    "dtree_clf = DecisionTreeClassifier(random_state=0)\n",
    "parameters = { 'max_depth' : [1,2,3,4,5,6,7,8,9,10]}"
   ]
  },
  {
   "cell_type": "code",
   "execution_count": 37,
   "metadata": {},
   "outputs": [
    {
     "data": {
      "text/plain": [
       "GridSearchCV(cv=6, error_score='raise-deprecating',\n",
       "             estimator=DecisionTreeClassifier(class_weight=None,\n",
       "                                              criterion='gini', max_depth=None,\n",
       "                                              max_features=None,\n",
       "                                              max_leaf_nodes=None,\n",
       "                                              min_impurity_decrease=0.0,\n",
       "                                              min_impurity_split=None,\n",
       "                                              min_samples_leaf=1,\n",
       "                                              min_samples_split=2,\n",
       "                                              min_weight_fraction_leaf=0.0,\n",
       "                                              presort=False, random_state=0,\n",
       "                                              splitter='best'),\n",
       "             iid='warn', n_jobs=None,\n",
       "             param_grid={'max_depth': [1, 2, 3, 4, 5, 6, 7, 8, 9, 10]},\n",
       "             pre_dispatch='2*n_jobs', refit=True, return_train_score=True,\n",
       "             scoring=None, verbose=0)"
      ]
     },
     "execution_count": 37,
     "metadata": {},
     "output_type": "execute_result"
    }
   ],
   "source": [
    "grid_search = GridSearchCV(dtree_clf,parameters, cv=6, return_train_score=True)\n",
    "X_train1, X_test1, y_train1, y_test1 = train_test_split(X, y, random_state=0)\n",
    "grid_search.fit(X_train1, y_train1)"
   ]
  },
  {
   "cell_type": "code",
   "execution_count": 38,
   "metadata": {},
   "outputs": [
    {
     "name": "stdout",
     "output_type": "stream",
     "text": [
      "Accuracy on training set: 1.000\n",
      "Accuracy on test set: 1.000\n"
     ]
    }
   ],
   "source": [
    "dtree = DecisionTreeClassifier(random_state=0)\n",
    "\n",
    "dtree.fit(X_train, y_train)\n",
    "print(\"Accuracy on training set: {:.3f}\".format(dtree.score(X_train, y_train)))\n",
    "print(\"Accuracy on test set: {:.3f}\".format(dtree.score(X_test, y_test)))"
   ]
  },
  {
   "cell_type": "code",
   "execution_count": 39,
   "metadata": {},
   "outputs": [
    {
     "name": "stdout",
     "output_type": "stream",
     "text": [
      "Best parameters: {'max_depth': 1}\n",
      "Best cross-validation score: 1.00\n"
     ]
    }
   ],
   "source": [
    "print(\"Best parameters: {}\".format(grid_search.best_params_))\n",
    "print(\"Best cross-validation score: {:.2f}\".format(grid_search.best_score_))"
   ]
  },
  {
   "cell_type": "code",
   "execution_count": 40,
   "metadata": {},
   "outputs": [
    {
     "name": "stdout",
     "output_type": "stream",
     "text": [
      "[[479   0]\n",
      " [  0 121]]\n",
      "1.0\n"
     ]
    }
   ],
   "source": [
    "from sklearn.metrics import f1_score\n",
    "from sklearn.metrics import confusion_matrix\n",
    "\n",
    "from sklearn.metrics import f1_score\n",
    "dtree = DecisionTreeClassifier(max_depth=2, random_state=0)\n",
    "dtree.fit(X_train, y_train)\n",
    "ypred = dtree.predict(X_test)\n",
    "cm = confusion_matrix(ypred,y_test)\n",
    "ft = f1_score(ypred,y_test)\n",
    "print(cm)\n",
    "print(ft)"
   ]
  },
  {
   "cell_type": "markdown",
   "metadata": {},
   "source": [
    "### Decision Tree Summary:\n",
    "\n",
    "#### Train Score: 1.0\n",
    "\n",
    "#### Test Score: 1.0\n",
    "\n",
    "#### Cross - Validation Score: 1.0\n",
    "\n",
    "#### F1 Score: 1.0\n",
    "\n",
    "#### Using Grid Search, we find max depth as 1 in decision tree model"
   ]
  },
  {
   "cell_type": "markdown",
   "metadata": {},
   "source": [
    "## Linear SVC"
   ]
  },
  {
   "cell_type": "code",
   "execution_count": 41,
   "metadata": {},
   "outputs": [],
   "source": [
    "from sklearn.model_selection import GridSearchCV\n",
    "X_train1, X_test1, y_train1, y_test1 = train_test_split(X, y, random_state=0)"
   ]
  },
  {
   "cell_type": "code",
   "execution_count": 42,
   "metadata": {},
   "outputs": [
    {
     "data": {
      "text/plain": [
       "GridSearchCV(cv=6, error_score='raise-deprecating',\n",
       "             estimator=SVC(C=1.0, cache_size=200, class_weight=None, coef0=0.0,\n",
       "                           decision_function_shape='ovr', degree=3,\n",
       "                           gamma='auto_deprecated', kernel='linear',\n",
       "                           max_iter=-1, probability=True, random_state=None,\n",
       "                           shrinking=True, tol=0.001, verbose=False),\n",
       "             iid='warn', n_jobs=None,\n",
       "             param_grid={'C': [0.001, 0.01, 0.1, 1, 10, 100]},\n",
       "             pre_dispatch='2*n_jobs', refit=True, return_train_score=True,\n",
       "             scoring=None, verbose=0)"
      ]
     },
     "execution_count": 42,
     "metadata": {},
     "output_type": "execute_result"
    }
   ],
   "source": [
    "from sklearn.model_selection import GridSearchCV\n",
    "svc_linear_clf = SVC(kernel = 'linear', probability=True)\n",
    "\n",
    "parameters = {'C': [0.001, 0.01, 0.1, 1, 10, 100]}\n",
    "\n",
    "grid_search = GridSearchCV(svc_linear_clf,parameters, cv=6, return_train_score=True)\n",
    "X_train1, X_test1, y_train1, y_test1 = train_test_split(X, y, random_state=0)\n",
    "grid_search.fit(X_train1, y_train1)"
   ]
  },
  {
   "cell_type": "code",
   "execution_count": 43,
   "metadata": {},
   "outputs": [
    {
     "name": "stdout",
     "output_type": "stream",
     "text": [
      "Best parameters: {'C': 1}\n",
      "Best cross-validation score: 1.00\n"
     ]
    }
   ],
   "source": [
    "print(\"Best parameters: {}\".format(grid_search.best_params_))\n",
    "print(\"Best cross-validation score: {:.2f}\".format(grid_search.best_score_))"
   ]
  },
  {
   "cell_type": "markdown",
   "metadata": {},
   "source": [
    "### Linear SVC Summary:\n",
    "\n",
    "#### Best Parameter: {'C': 1}\n",
    "\n",
    "#### Cross - Validation Score: 1.0"
   ]
  },
  {
   "cell_type": "markdown",
   "metadata": {},
   "source": [
    "## Gaussian Naive Bayes"
   ]
  },
  {
   "cell_type": "code",
   "execution_count": 44,
   "metadata": {},
   "outputs": [],
   "source": [
    "X_train_org, X_test_org, y_train, y_test = train_test_split(X, y, random_state = 0)\n",
    "scaler = MinMaxScaler()\n",
    "scaler.fit(X_train_org)\n",
    "X_train = scaler.transform(X_train_org)\n",
    "X_test = scaler.transform(X_test_org)"
   ]
  },
  {
   "cell_type": "code",
   "execution_count": 45,
   "metadata": {},
   "outputs": [
    {
     "data": {
      "text/plain": [
       "GaussianNB(priors=None, var_smoothing=1e-09)"
      ]
     },
     "execution_count": 45,
     "metadata": {},
     "output_type": "execute_result"
    }
   ],
   "source": [
    "gnb_clf = GaussianNB()\n",
    "gnb_clf.fit(X_train,y_train)"
   ]
  },
  {
   "cell_type": "code",
   "execution_count": 46,
   "metadata": {},
   "outputs": [
    {
     "name": "stdout",
     "output_type": "stream",
     "text": [
      "0.9555555555555556\n",
      "0.956\n"
     ]
    }
   ],
   "source": [
    "print(gnb_clf.score(X_train,y_train))\n",
    "print(gnb_clf.score(X_test,y_test))"
   ]
  },
  {
   "cell_type": "markdown",
   "metadata": {},
   "source": [
    "### Gaussian Naive Bayes Summary:\n",
    "\n",
    "#### Train Score: 0.9555\n",
    "\n",
    "#### Test Score: 0.9560"
   ]
  },
  {
   "cell_type": "markdown",
   "metadata": {},
   "source": [
    "## Soft Voting using Logistic Regression and Gaussian Naive Bayes"
   ]
  },
  {
   "cell_type": "code",
   "execution_count": 47,
   "metadata": {},
   "outputs": [],
   "source": [
    "X_train, X_test, y_train, y_test = train_test_split(X, y, random_state = 0, test_size = 0.2)"
   ]
  },
  {
   "cell_type": "code",
   "execution_count": 48,
   "metadata": {},
   "outputs": [
    {
     "data": {
      "text/plain": [
       "VotingClassifier(estimators=[('lr',\n",
       "                              LogisticRegression(C=1, class_weight=None,\n",
       "                                                 dual=False, fit_intercept=True,\n",
       "                                                 intercept_scaling=1,\n",
       "                                                 l1_ratio=None, max_iter=100,\n",
       "                                                 multi_class='warn',\n",
       "                                                 n_jobs=None, penalty='l2',\n",
       "                                                 random_state=None,\n",
       "                                                 solver='warn', tol=0.0001,\n",
       "                                                 verbose=0, warm_start=False)),\n",
       "                             ('Gaussian',\n",
       "                              GaussianNB(priors=None, var_smoothing=1e-09))],\n",
       "                 flatten_transform=True, n_jobs=None, voting='soft',\n",
       "                 weights=None)"
      ]
     },
     "execution_count": 48,
     "metadata": {},
     "output_type": "execute_result"
    }
   ],
   "source": [
    "voting_clf = VotingClassifier(estimators=[('lr', log_clf),('Gaussian',gnb_clf)], voting='soft')\n",
    "voting_clf.fit(X_train, y_train)"
   ]
  },
  {
   "cell_type": "code",
   "execution_count": 49,
   "metadata": {},
   "outputs": [
    {
     "name": "stdout",
     "output_type": "stream",
     "text": [
      "LogisticRegression 0.9983333333333333\n",
      "GaussianNB 0.9616666666666667\n",
      "VotingClassifier 0.9766666666666667\n"
     ]
    }
   ],
   "source": [
    "from sklearn.metrics import accuracy_score\n",
    "for clf in (log_clf,gnb_clf, voting_clf):\n",
    "    clf.fit(X_train, y_train)\n",
    "    y_pred = clf.predict(X_test)\n",
    "    print(clf.__class__.__name__, accuracy_score(y_test, y_pred))\n"
   ]
  },
  {
   "cell_type": "markdown",
   "metadata": {},
   "source": [
    "## Hard Voting using KNN Classifier and Guassian Naive Bayes"
   ]
  },
  {
   "cell_type": "code",
   "execution_count": 50,
   "metadata": {},
   "outputs": [],
   "source": [
    "X_train, X_test, y_train, y_test = train_test_split(X, y, random_state = 0, test_size = 0.2)\n"
   ]
  },
  {
   "cell_type": "code",
   "execution_count": 51,
   "metadata": {},
   "outputs": [
    {
     "data": {
      "text/plain": [
       "VotingClassifier(estimators=[('knn',\n",
       "                              KNeighborsClassifier(algorithm='auto',\n",
       "                                                   leaf_size=30,\n",
       "                                                   metric='minkowski',\n",
       "                                                   metric_params=None,\n",
       "                                                   n_jobs=None, n_neighbors=20,\n",
       "                                                   p=2, weights='uniform')),\n",
       "                             ('Gaussian',\n",
       "                              GaussianNB(priors=None, var_smoothing=1e-09))],\n",
       "                 flatten_transform=True, n_jobs=None, voting='hard',\n",
       "                 weights=None)"
      ]
     },
     "execution_count": 51,
     "metadata": {},
     "output_type": "execute_result"
    }
   ],
   "source": [
    "voting_clf = VotingClassifier(estimators=[('knn', knn),('Gaussian',gnb_clf)], voting='hard')\n",
    "voting_clf.fit(X_train, y_train)"
   ]
  },
  {
   "cell_type": "code",
   "execution_count": 52,
   "metadata": {},
   "outputs": [
    {
     "name": "stdout",
     "output_type": "stream",
     "text": [
      "KNeighborsClassifier 0.88\n",
      "GaussianNB 0.9616666666666667\n",
      "VotingClassifier 0.8833333333333333\n"
     ]
    }
   ],
   "source": [
    "\n",
    "from sklearn.metrics import accuracy_score\n",
    "for clf in (knn,gnb_clf,voting_clf):\n",
    "    clf.fit(X_train, y_train)\n",
    "    y_pred = clf.predict(X_test)\n",
    "    print(clf.__class__.__name__, accuracy_score(y_test, y_pred))"
   ]
  },
  {
   "cell_type": "markdown",
   "metadata": {},
   "source": [
    "## Bagging using Decision Tree and Logistic Regression"
   ]
  },
  {
   "cell_type": "markdown",
   "metadata": {},
   "source": [
    "### Using Decision Tree"
   ]
  },
  {
   "cell_type": "code",
   "execution_count": 53,
   "metadata": {},
   "outputs": [],
   "source": [
    "from sklearn.ensemble import BaggingClassifier\n",
    "\n",
    "X_train, X_test, y_train, y_test = train_test_split(X, y, random_state = 0, test_size = 0.2)"
   ]
  },
  {
   "cell_type": "code",
   "execution_count": 54,
   "metadata": {},
   "outputs": [],
   "source": [
    "param_grid = {\n",
    "    'max_samples' : [0.01, 0.05, 0.10, 0.20, 0.50 ]\n",
    "}"
   ]
  },
  {
   "cell_type": "code",
   "execution_count": 55,
   "metadata": {},
   "outputs": [
    {
     "data": {
      "text/plain": [
       "GridSearchCV(cv=6, error_score='raise-deprecating',\n",
       "             estimator=BaggingClassifier(base_estimator=DecisionTreeClassifier(class_weight=None,\n",
       "                                                                               criterion='gini',\n",
       "                                                                               max_depth=None,\n",
       "                                                                               max_features=None,\n",
       "                                                                               max_leaf_nodes=None,\n",
       "                                                                               min_impurity_decrease=0.0,\n",
       "                                                                               min_impurity_split=None,\n",
       "                                                                               min_samples_leaf=1,\n",
       "                                                                               min_samples_split=2,\n",
       "                                                                               min_weight_fraction_leaf=0.0,\n",
       "                                                                               presort=False,\n",
       "                                                                               random_state=0,\n",
       "                                                                               splitter='best'),\n",
       "                                         bootstrap=True,\n",
       "                                         bootstrap_features=False,\n",
       "                                         max_features=1.0, max_samples=1.0,\n",
       "                                         n_estimators=100, n_jobs=None,\n",
       "                                         oob_score=False, random_state=0,\n",
       "                                         verbose=0, warm_start=False),\n",
       "             iid='warn', n_jobs=None,\n",
       "             param_grid={'max_samples': [0.01, 0.05, 0.1, 0.2, 0.5]},\n",
       "             pre_dispatch='2*n_jobs', refit=True, return_train_score=False,\n",
       "             scoring=None, verbose=0)"
      ]
     },
     "execution_count": 55,
     "metadata": {},
     "output_type": "execute_result"
    }
   ],
   "source": [
    "clf = GridSearchCV(BaggingClassifier(dtree_clf,\n",
    "                                     n_estimators = 100, bootstrap=True,random_state=0),\n",
    "                   param_grid, cv=6)\n",
    "clf.fit(X_train, y_train)"
   ]
  },
  {
   "cell_type": "code",
   "execution_count": 56,
   "metadata": {},
   "outputs": [
    {
     "name": "stdout",
     "output_type": "stream",
     "text": [
      "Best parameters: {'max_samples': 0.05}\n"
     ]
    }
   ],
   "source": [
    "print(\"Best parameters: {}\".format(clf.best_params_))"
   ]
  },
  {
   "cell_type": "code",
   "execution_count": 57,
   "metadata": {},
   "outputs": [],
   "source": [
    "y_pred = clf.predict(X_test)"
   ]
  },
  {
   "cell_type": "code",
   "execution_count": 58,
   "metadata": {},
   "outputs": [
    {
     "name": "stdout",
     "output_type": "stream",
     "text": [
      "1.0\n"
     ]
    }
   ],
   "source": [
    "from  sklearn.metrics import accuracy_score\n",
    "print(accuracy_score(y_test, y_pred))"
   ]
  },
  {
   "cell_type": "code",
   "execution_count": 59,
   "metadata": {},
   "outputs": [
    {
     "name": "stdout",
     "output_type": "stream",
     "text": [
      "Train score: 1.00\n",
      "Test score: 1.00\n"
     ]
    }
   ],
   "source": [
    "clf.fit(X_train, y_train)\n",
    "print('Train score: {:.2f}'.format(clf.score(X_train, y_train)))\n",
    "print('Test score: {:.2f}'.format(clf.score(X_test, y_test)))"
   ]
  },
  {
   "cell_type": "code",
   "execution_count": 60,
   "metadata": {},
   "outputs": [
    {
     "name": "stdout",
     "output_type": "stream",
     "text": [
      "1.0\n"
     ]
    }
   ],
   "source": [
    "tree_clf = DecisionTreeClassifier(max_depth=1, random_state=0)\n",
    "tree_clf.fit(X_train, y_train)\n",
    "y_pred_tree = tree_clf.predict(X_test)\n",
    "\n",
    "print(accuracy_score(y_test, y_pred_tree))"
   ]
  },
  {
   "cell_type": "markdown",
   "metadata": {},
   "source": [
    "## NOTE - Since the dataset is biased towards one of the values in the target variable, we are getting train and test score as 1.0"
   ]
  },
  {
   "cell_type": "markdown",
   "metadata": {},
   "source": [
    "### Using Logistic Regression"
   ]
  },
  {
   "cell_type": "code",
   "execution_count": 61,
   "metadata": {},
   "outputs": [
    {
     "data": {
      "text/plain": [
       "GridSearchCV(cv=6, error_score='raise-deprecating',\n",
       "             estimator=BaggingClassifier(base_estimator=LogisticRegression(C=1,\n",
       "                                                                           class_weight=None,\n",
       "                                                                           dual=False,\n",
       "                                                                           fit_intercept=True,\n",
       "                                                                           intercept_scaling=1,\n",
       "                                                                           l1_ratio=None,\n",
       "                                                                           max_iter=100,\n",
       "                                                                           multi_class='warn',\n",
       "                                                                           n_jobs=None,\n",
       "                                                                           penalty='l2',\n",
       "                                                                           random_state=None,\n",
       "                                                                           solver='warn',\n",
       "                                                                           tol=0.0001,\n",
       "                                                                           verbose=0,\n",
       "                                                                           warm_start=False),\n",
       "                                         bootstrap=True,\n",
       "                                         bootstrap_features=False,\n",
       "                                         max_features=8, max_samples=1.0,\n",
       "                                         n_estimators=100, n_jobs=None,\n",
       "                                         oob_score=False, random_state=0,\n",
       "                                         verbose=0, warm_start=False),\n",
       "             iid='warn', n_jobs=None,\n",
       "             param_grid={'max_samples': [0.01, 0.05, 0.1, 0.2, 0.5]},\n",
       "             pre_dispatch='2*n_jobs', refit=True, return_train_score=False,\n",
       "             scoring=None, verbose=0)"
      ]
     },
     "execution_count": 61,
     "metadata": {},
     "output_type": "execute_result"
    }
   ],
   "source": [
    "bag_log_clf = GridSearchCV(BaggingClassifier(log_clf,\n",
    "                                     n_estimators = 100, max_features = 8,bootstrap=True, random_state=0),\n",
    "                   param_grid, cv=6)\n",
    "bag_log_clf.fit(X_train, y_train)"
   ]
  },
  {
   "cell_type": "code",
   "execution_count": 62,
   "metadata": {
    "scrolled": true
   },
   "outputs": [
    {
     "name": "stdout",
     "output_type": "stream",
     "text": [
      "0.965\n"
     ]
    }
   ],
   "source": [
    "y_pred = bag_log_clf.predict(X_test)\n",
    "print(accuracy_score(y_test, y_pred))"
   ]
  },
  {
   "cell_type": "code",
   "execution_count": 63,
   "metadata": {},
   "outputs": [
    {
     "name": "stdout",
     "output_type": "stream",
     "text": [
      "Train score: 0.97\n",
      "Test score: 0.96\n"
     ]
    }
   ],
   "source": [
    "bag_log_clf.fit(X_train, y_train)\n",
    "print('Train score: {:.2f}'.format(bag_log_clf.score(X_train, y_train)))\n",
    "print('Test score: {:.2f}'.format(bag_log_clf.score(X_test, y_test)))"
   ]
  },
  {
   "cell_type": "markdown",
   "metadata": {},
   "source": [
    "## Pasting using KNN Classifier and Logistic Regression"
   ]
  },
  {
   "cell_type": "markdown",
   "metadata": {},
   "source": [
    "### Using KNN Classifier"
   ]
  },
  {
   "cell_type": "code",
   "execution_count": 64,
   "metadata": {},
   "outputs": [],
   "source": [
    "from sklearn.ensemble import BaggingClassifier\n",
    "\n",
    "X_train, X_test, y_train, y_test = train_test_split(X, y, random_state = 0, test_size = 0.2)"
   ]
  },
  {
   "cell_type": "code",
   "execution_count": 65,
   "metadata": {},
   "outputs": [
    {
     "data": {
      "text/plain": [
       "BaggingClassifier(base_estimator=KNeighborsClassifier(algorithm='auto',\n",
       "                                                      leaf_size=30,\n",
       "                                                      metric='minkowski',\n",
       "                                                      metric_params=None,\n",
       "                                                      n_jobs=None,\n",
       "                                                      n_neighbors=10, p=2,\n",
       "                                                      weights='uniform'),\n",
       "                  bootstrap=False, bootstrap_features=False, max_features=1.0,\n",
       "                  max_samples=100, n_estimators=500, n_jobs=None,\n",
       "                  oob_score=False, random_state=0, verbose=0, warm_start=False)"
      ]
     },
     "execution_count": 65,
     "metadata": {},
     "output_type": "execute_result"
    }
   ],
   "source": [
    "from sklearn.neighbors import KNeighborsClassifier\n",
    "knn = KNeighborsClassifier(n_neighbors = 10)\n",
    "\n",
    "bag_clf = BaggingClassifier(knn,n_estimators=500, max_samples=100, bootstrap=False, random_state=0)\n",
    "bag_clf.fit(X_train, y_train)"
   ]
  },
  {
   "cell_type": "code",
   "execution_count": 66,
   "metadata": {},
   "outputs": [
    {
     "data": {
      "text/plain": [
       "0.8645833333333334"
      ]
     },
     "execution_count": 66,
     "metadata": {},
     "output_type": "execute_result"
    }
   ],
   "source": [
    "bag_clf.score(X_train, y_train)"
   ]
  },
  {
   "cell_type": "code",
   "execution_count": 67,
   "metadata": {},
   "outputs": [
    {
     "data": {
      "text/plain": [
       "0.8633333333333333"
      ]
     },
     "execution_count": 67,
     "metadata": {},
     "output_type": "execute_result"
    }
   ],
   "source": [
    "bag_clf.score(X_test, y_test)"
   ]
  },
  {
   "cell_type": "markdown",
   "metadata": {},
   "source": [
    "### Using Logistic Regression"
   ]
  },
  {
   "cell_type": "code",
   "execution_count": 68,
   "metadata": {},
   "outputs": [
    {
     "data": {
      "text/plain": [
       "GridSearchCV(cv=6, error_score='raise-deprecating',\n",
       "             estimator=BaggingClassifier(base_estimator=LogisticRegression(C=1,\n",
       "                                                                           class_weight=None,\n",
       "                                                                           dual=False,\n",
       "                                                                           fit_intercept=True,\n",
       "                                                                           intercept_scaling=1,\n",
       "                                                                           l1_ratio=None,\n",
       "                                                                           max_iter=100,\n",
       "                                                                           multi_class='warn',\n",
       "                                                                           n_jobs=None,\n",
       "                                                                           penalty='l2',\n",
       "                                                                           random_state=None,\n",
       "                                                                           solver='warn',\n",
       "                                                                           tol=0.0001,\n",
       "                                                                           verbose=0,\n",
       "                                                                           warm_start=False),\n",
       "                                         bootstrap=False,\n",
       "                                         bootstrap_features=False,\n",
       "                                         max_features=8, max_samples=1.0,\n",
       "                                         n_estimators=100, n_jobs=None,\n",
       "                                         oob_score=False, random_state=0,\n",
       "                                         verbose=0, warm_start=False),\n",
       "             iid='warn', n_jobs=None,\n",
       "             param_grid={'max_samples': [0.01, 0.05, 0.1, 0.2, 0.5]},\n",
       "             pre_dispatch='2*n_jobs', refit=True, return_train_score=False,\n",
       "             scoring=None, verbose=0)"
      ]
     },
     "execution_count": 68,
     "metadata": {},
     "output_type": "execute_result"
    }
   ],
   "source": [
    "bag_log_clf = GridSearchCV(BaggingClassifier(log_clf,\n",
    "                                     n_estimators = 100, max_features = 8,bootstrap= False, random_state=0),\n",
    "                   param_grid, cv=6)\n",
    "bag_log_clf.fit(X_train, y_train)"
   ]
  },
  {
   "cell_type": "code",
   "execution_count": 69,
   "metadata": {},
   "outputs": [
    {
     "name": "stdout",
     "output_type": "stream",
     "text": [
      "Train score: 0.97\n",
      "Test score: 0.96\n"
     ]
    }
   ],
   "source": [
    "print('Train score: {:.2f}'.format(bag_log_clf.score(X_train, y_train)))\n",
    "print('Test score: {:.2f}'.format(bag_log_clf.score(X_test, y_test)))"
   ]
  },
  {
   "cell_type": "markdown",
   "metadata": {},
   "source": [
    "## AdaBoosting using Gaussian Naive Bayes and Decision Tree"
   ]
  },
  {
   "cell_type": "markdown",
   "metadata": {},
   "source": [
    "### Using Gaussian Naive Bayes"
   ]
  },
  {
   "cell_type": "code",
   "execution_count": 70,
   "metadata": {},
   "outputs": [],
   "source": [
    "from sklearn.ensemble import AdaBoostClassifier"
   ]
  },
  {
   "cell_type": "code",
   "execution_count": 71,
   "metadata": {},
   "outputs": [],
   "source": [
    "X_train, X_test, y_train, y_test = train_test_split(X, y, random_state=0,test_size=0.2)"
   ]
  },
  {
   "cell_type": "code",
   "execution_count": 72,
   "metadata": {},
   "outputs": [
    {
     "name": "stderr",
     "output_type": "stream",
     "text": [
      "C:\\Users\\dhurv\\Anaconda3\\lib\\site-packages\\sklearn\\model_selection\\_search.py:813: DeprecationWarning: The default of the `iid` parameter will change from True to False in version 0.22 and will be removed in 0.24. This will change numeric results when test-set sizes are unequal.\n",
      "  DeprecationWarning)\n"
     ]
    },
    {
     "data": {
      "text/plain": [
       "GridSearchCV(cv=6, error_score='raise-deprecating',\n",
       "             estimator=AdaBoostClassifier(algorithm='SAMME.R',\n",
       "                                          base_estimator=GaussianNB(priors=None,\n",
       "                                                                    var_smoothing=1e-09),\n",
       "                                          learning_rate=1.0, n_estimators=50,\n",
       "                                          random_state=0),\n",
       "             iid='warn', n_jobs=None,\n",
       "             param_grid={'learning_rate': [0.1, 0.2, 0.3, 0.4, 0.5, 0.6, 0.7,\n",
       "                                           0.8, 0.9, 1.0],\n",
       "                         'n_estimators': [100, 200, 300, 400, 500, 600, 700]},\n",
       "             pre_dispatch='2*n_jobs', refit=True, return_train_score=False,\n",
       "             scoring=None, verbose=0)"
      ]
     },
     "execution_count": 72,
     "metadata": {},
     "output_type": "execute_result"
    }
   ],
   "source": [
    "param_grid = {\n",
    "    'n_estimators'  : [100,200,300,400,500,600,700],\n",
    "    'learning_rate' : [0.1,0.2,0.3,0.4,0.5,0.6,0.7,0.8,0.9,1.0]\n",
    "    \n",
    "}\n",
    "\n",
    "ada_clf = GridSearchCV(AdaBoostClassifier(gnb_clf, algorithm=\"SAMME.R\", random_state=0),param_grid,cv=6)\n",
    "ada_clf.fit(X_train, y_train)"
   ]
  },
  {
   "cell_type": "code",
   "execution_count": 73,
   "metadata": {},
   "outputs": [
    {
     "name": "stdout",
     "output_type": "stream",
     "text": [
      "Best parameters: {'learning_rate': 0.1, 'n_estimators': 200}\n",
      "Best cross-validation score: 1.00\n"
     ]
    }
   ],
   "source": [
    "print(\"Best parameters: {}\".format(ada_clf.best_params_))\n",
    "print(\"Best cross-validation score: {:.2f}\".format(ada_clf.best_score_))"
   ]
  },
  {
   "cell_type": "code",
   "execution_count": 74,
   "metadata": {},
   "outputs": [
    {
     "name": "stdout",
     "output_type": "stream",
     "text": [
      "1.0\n"
     ]
    }
   ],
   "source": [
    "y_pred = ada_clf.predict(X_test)\n",
    "print(accuracy_score(y_test, y_pred))"
   ]
  },
  {
   "cell_type": "markdown",
   "metadata": {},
   "source": [
    "### Using Decision Tree"
   ]
  },
  {
   "cell_type": "code",
   "execution_count": 75,
   "metadata": {},
   "outputs": [],
   "source": [
    "from sklearn.ensemble import AdaBoostClassifier"
   ]
  },
  {
   "cell_type": "code",
   "execution_count": 76,
   "metadata": {},
   "outputs": [],
   "source": [
    "X_train, X_test, y_train, y_test = train_test_split(X, y, random_state=0,test_size=0.2)"
   ]
  },
  {
   "cell_type": "code",
   "execution_count": 77,
   "metadata": {},
   "outputs": [
    {
     "data": {
      "text/plain": [
       "DecisionTreeClassifier(class_weight=None, criterion='gini', max_depth=8,\n",
       "                       max_features=None, max_leaf_nodes=None,\n",
       "                       min_impurity_decrease=0.0, min_impurity_split=None,\n",
       "                       min_samples_leaf=1, min_samples_split=2,\n",
       "                       min_weight_fraction_leaf=0.0, presort=False,\n",
       "                       random_state=0, splitter='best')"
      ]
     },
     "execution_count": 77,
     "metadata": {},
     "output_type": "execute_result"
    }
   ],
   "source": [
    "dtree_clf = DecisionTreeClassifier(max_depth=8, random_state=0)\n",
    "dtree_clf.fit(X_train, y_train)"
   ]
  },
  {
   "cell_type": "code",
   "execution_count": 78,
   "metadata": {},
   "outputs": [
    {
     "data": {
      "text/plain": [
       "GridSearchCV(cv=6, error_score='raise-deprecating',\n",
       "             estimator=AdaBoostClassifier(algorithm='SAMME.R',\n",
       "                                          base_estimator=DecisionTreeClassifier(class_weight=None,\n",
       "                                                                                criterion='gini',\n",
       "                                                                                max_depth=2,\n",
       "                                                                                max_features=None,\n",
       "                                                                                max_leaf_nodes=None,\n",
       "                                                                                min_impurity_decrease=0.0,\n",
       "                                                                                min_impurity_split=None,\n",
       "                                                                                min_samples_leaf=1,\n",
       "                                                                                min_samples_split=2,\n",
       "                                                                                min_weight_fraction_leaf=0.0,\n",
       "                                                                                presort=False,\n",
       "                                                                                random_state=None,\n",
       "                                                                                splitter='best'),\n",
       "                                          learning_rate=1.0, n_estimators=50,\n",
       "                                          random_state=0),\n",
       "             iid='warn', n_jobs=None,\n",
       "             param_grid={'learning_rate': [0.1, 0.2, 0.3, 0.4, 0.5, 0.6, 0.7,\n",
       "                                           0.8, 0.9, 1.0],\n",
       "                         'n_estimators': [100, 200, 300, 400, 500, 600, 700]},\n",
       "             pre_dispatch='2*n_jobs', refit=True, return_train_score=False,\n",
       "             scoring=None, verbose=0)"
      ]
     },
     "execution_count": 78,
     "metadata": {},
     "output_type": "execute_result"
    }
   ],
   "source": [
    "ada_clf = GridSearchCV(AdaBoostClassifier(DecisionTreeClassifier(max_depth=2), algorithm=\"SAMME.R\", random_state=0),param_grid,cv=6)\n",
    "ada_clf.fit(X_train, y_train)"
   ]
  },
  {
   "cell_type": "code",
   "execution_count": 79,
   "metadata": {},
   "outputs": [
    {
     "name": "stdout",
     "output_type": "stream",
     "text": [
      "Best parameters: {'learning_rate': 0.1, 'n_estimators': 100}\n",
      "Best cross-validation score: 1.00\n"
     ]
    }
   ],
   "source": [
    "print(\"Best parameters: {}\".format(ada_clf.best_params_))\n",
    "print(\"Best cross-validation score: {:.2f}\".format(ada_clf.best_score_))"
   ]
  },
  {
   "cell_type": "code",
   "execution_count": 80,
   "metadata": {},
   "outputs": [
    {
     "name": "stdout",
     "output_type": "stream",
     "text": [
      "1.0\n"
     ]
    }
   ],
   "source": [
    "y_pred = ada_clf.predict(X_test)\n",
    "print(accuracy_score(y_test, y_pred))"
   ]
  },
  {
   "cell_type": "markdown",
   "metadata": {},
   "source": [
    "## Gradient Boosting"
   ]
  },
  {
   "cell_type": "code",
   "execution_count": 81,
   "metadata": {},
   "outputs": [],
   "source": [
    "from sklearn.ensemble import GradientBoostingClassifier"
   ]
  },
  {
   "cell_type": "code",
   "execution_count": 82,
   "metadata": {},
   "outputs": [],
   "source": [
    "X_train, X_test, y_train, y_test = train_test_split(X, y, random_state=0,test_size=0.2)"
   ]
  },
  {
   "cell_type": "code",
   "execution_count": 83,
   "metadata": {},
   "outputs": [],
   "source": [
    "param_grid = {\n",
    "    'max_depth' : [1,2,3,4,5,6,7,8,9,10]\n",
    "}"
   ]
  },
  {
   "cell_type": "code",
   "execution_count": 84,
   "metadata": {},
   "outputs": [
    {
     "data": {
      "text/plain": [
       "GridSearchCV(cv=6, error_score='raise-deprecating',\n",
       "             estimator=GradientBoostingClassifier(criterion='friedman_mse',\n",
       "                                                  init=None, learning_rate=0.1,\n",
       "                                                  loss='deviance', max_depth=3,\n",
       "                                                  max_features=None,\n",
       "                                                  max_leaf_nodes=None,\n",
       "                                                  min_impurity_decrease=0.0,\n",
       "                                                  min_impurity_split=None,\n",
       "                                                  min_samples_leaf=1,\n",
       "                                                  min_samples_split=2,\n",
       "                                                  min_weight_fraction_leaf=0.0,\n",
       "                                                  n_estimators=100,\n",
       "                                                  n_iter_no_change=None,\n",
       "                                                  presort='auto',\n",
       "                                                  random_state=0, subsample=1.0,\n",
       "                                                  tol=0.0001,\n",
       "                                                  validation_fraction=0.1,\n",
       "                                                  verbose=0, warm_start=False),\n",
       "             iid='warn', n_jobs=None,\n",
       "             param_grid={'max_depth': [1, 2, 3, 4, 5, 6, 7, 8, 9, 10]},\n",
       "             pre_dispatch='2*n_jobs', refit=True, return_train_score=False,\n",
       "             scoring=None, verbose=0)"
      ]
     },
     "execution_count": 84,
     "metadata": {},
     "output_type": "execute_result"
    }
   ],
   "source": [
    "\n",
    "gbr_clf = GridSearchCV(GradientBoostingClassifier(random_state=0),param_grid,cv=6)\n",
    "gbr_clf.fit(X_train, y_train)"
   ]
  },
  {
   "cell_type": "code",
   "execution_count": 85,
   "metadata": {},
   "outputs": [
    {
     "name": "stdout",
     "output_type": "stream",
     "text": [
      "Best parameters: {'max_depth': 1}\n",
      "Best cross-validation score: 1.00\n"
     ]
    }
   ],
   "source": [
    "print(\"Best parameters: {}\".format(gbr_clf.best_params_))\n",
    "print(\"Best cross-validation score: {:.2f}\".format(gbr_clf.best_score_))"
   ]
  },
  {
   "cell_type": "code",
   "execution_count": 86,
   "metadata": {},
   "outputs": [
    {
     "data": {
      "text/plain": [
       "GradientBoostingClassifier(criterion='friedman_mse', init=None,\n",
       "                           learning_rate=0.1, loss='deviance', max_depth=1,\n",
       "                           max_features=None, max_leaf_nodes=None,\n",
       "                           min_impurity_decrease=0.0, min_impurity_split=None,\n",
       "                           min_samples_leaf=1, min_samples_split=2,\n",
       "                           min_weight_fraction_leaf=0.0, n_estimators=100,\n",
       "                           n_iter_no_change=None, presort='auto',\n",
       "                           random_state=0, subsample=1.0, tol=0.0001,\n",
       "                           validation_fraction=0.1, verbose=0,\n",
       "                           warm_start=False)"
      ]
     },
     "execution_count": 86,
     "metadata": {},
     "output_type": "execute_result"
    }
   ],
   "source": [
    "gbrt = GradientBoostingClassifier(random_state=0,max_depth=1)\n",
    "gbrt.fit(X_train, y_train)"
   ]
  },
  {
   "cell_type": "markdown",
   "metadata": {},
   "source": [
    "## PCA"
   ]
  },
  {
   "cell_type": "code",
   "execution_count": 87,
   "metadata": {},
   "outputs": [],
   "source": [
    "from sklearn.decomposition import PCA"
   ]
  },
  {
   "cell_type": "code",
   "execution_count": 88,
   "metadata": {},
   "outputs": [],
   "source": [
    "clients_pca = data"
   ]
  },
  {
   "cell_type": "code",
   "execution_count": 89,
   "metadata": {},
   "outputs": [],
   "source": [
    "X = data.drop('RainTom',axis=1).values\n",
    "y = data.RainTom.values"
   ]
  },
  {
   "cell_type": "code",
   "execution_count": 90,
   "metadata": {},
   "outputs": [],
   "source": [
    "X_train, X_test, y_train, y_test = train_test_split(X, y, random_state=0,test_size=0.2)"
   ]
  },
  {
   "cell_type": "code",
   "execution_count": 91,
   "metadata": {},
   "outputs": [],
   "source": [
    "#create model\n",
    "pca = PCA(n_components=0.95,random_state = 0)\n",
    "\n",
    "#train pca model\n",
    "pca.fit(X_train)\n",
    "\n",
    "#transforming X_train and X_test\n",
    "X_train_reduced = pca.transform(X_train)\n",
    "X_test_reduced = pca.transform(X_test)"
   ]
  },
  {
   "cell_type": "code",
   "execution_count": 92,
   "metadata": {},
   "outputs": [
    {
     "data": {
      "text/plain": [
       "array([[  0.90143554, -15.6397714 ,  -0.63617991, ...,   2.11815554,\n",
       "         -2.69532932,   0.83821011],\n",
       "       [ 29.88192796, -14.93498497,   1.93181549, ...,   0.12168779,\n",
       "          0.98794517,   1.67515054],\n",
       "       [ 23.56923609,  13.71927324,  -6.47210992, ...,   2.29345985,\n",
       "          0.54381106,   3.48153422],\n",
       "       ...,\n",
       "       [  0.63248796,  43.28406232, -26.95210724, ...,   0.45919441,\n",
       "         -8.08036993,  14.43015733],\n",
       "       [-14.7753155 ,  -6.75539425,   5.8883346 , ...,  -7.05000866,\n",
       "         -3.78604756,   4.58396042],\n",
       "       [-26.04209123,  22.42733083,  -1.90381509, ...,   1.98254136,\n",
       "         -7.33864579,   0.45908263]])"
      ]
     },
     "execution_count": 92,
     "metadata": {},
     "output_type": "execute_result"
    }
   ],
   "source": [
    "X_train_reduced"
   ]
  },
  {
   "cell_type": "code",
   "execution_count": 93,
   "metadata": {},
   "outputs": [
    {
     "data": {
      "text/plain": [
       "9"
      ]
     },
     "execution_count": 93,
     "metadata": {},
     "output_type": "execute_result"
    }
   ],
   "source": [
    "pca.n_components_"
   ]
  },
  {
   "cell_type": "code",
   "execution_count": 94,
   "metadata": {},
   "outputs": [
    {
     "data": {
      "text/plain": [
       "array([761.88683732, 276.4410161 ,  95.39765166,  71.24519544,\n",
       "        46.3301771 ,  33.3017575 ,  27.97316474,  25.63935231,\n",
       "        22.01260524])"
      ]
     },
     "execution_count": 94,
     "metadata": {},
     "output_type": "execute_result"
    }
   ],
   "source": [
    "pca.explained_variance_"
   ]
  },
  {
   "cell_type": "code",
   "execution_count": 95,
   "metadata": {},
   "outputs": [
    {
     "data": {
      "text/plain": [
       "array([0.53939893, 0.19571409, 0.06753941, 0.05044001, 0.03280073,\n",
       "       0.0235769 , 0.01980438, 0.01815209, 0.01558443])"
      ]
     },
     "execution_count": 95,
     "metadata": {},
     "output_type": "execute_result"
    }
   ],
   "source": [
    "pca.explained_variance_ratio_"
   ]
  },
  {
   "cell_type": "code",
   "execution_count": 96,
   "metadata": {},
   "outputs": [],
   "source": [
    "scaler = MinMaxScaler()\n",
    "X_train_pca = scaler.fit_transform(X_train_reduced)\n",
    "X_test_pca = scaler.transform(X_test_reduced)"
   ]
  },
  {
   "cell_type": "markdown",
   "metadata": {},
   "source": [
    "## KNN Classification (After applying PCA)"
   ]
  },
  {
   "cell_type": "code",
   "execution_count": 97,
   "metadata": {},
   "outputs": [],
   "source": [
    "from sklearn.neighbors import KNeighborsClassifier\n",
    "\n",
    "train_score_array = []\n",
    "test_score_array = []\n",
    "\n",
    "for k in range(1,20):\n",
    "    knn = KNeighborsClassifier(k)\n",
    "    knn.fit(X_train_pca, y_train)\n",
    "    train_score_array.append(knn.score(X_train_pca, y_train))\n",
    "    test_score_array.append(knn.score(X_test_pca, y_test))"
   ]
  },
  {
   "cell_type": "code",
   "execution_count": 98,
   "metadata": {},
   "outputs": [
    {
     "data": {
      "text/plain": [
       "<matplotlib.legend.Legend at 0x22d9b2ca860>"
      ]
     },
     "execution_count": 98,
     "metadata": {},
     "output_type": "execute_result"
    },
    {
     "data": {
      "image/png": "[encoded data removed]",
      "text/plain": [
       "<Figure size 432x288 with 1 Axes>"
      ]
     },
     "metadata": {
      "needs_background": "light"
     },
     "output_type": "display_data"
    }
   ],
   "source": [
    "x_axis = range(1,20)\n",
    "%matplotlib inline\n",
    "plt.plot(x_axis, train_score_array, label = 'Train Score', c = 'g')\n",
    "plt.plot(x_axis, test_score_array, label = 'Test Score', c='b')\n",
    "plt.xlabel('k')\n",
    "plt.ylabel('Accuracy')\n",
    "plt.legend()"
   ]
  },
  {
   "cell_type": "code",
   "execution_count": 99,
   "metadata": {},
   "outputs": [
    {
     "name": "stdout",
     "output_type": "stream",
     "text": [
      "0.9079166666666667\n",
      "0.8883333333333333\n"
     ]
    }
   ],
   "source": [
    "knn = KNeighborsClassifier(8)\n",
    "knn.fit(X_train_pca, y_train)\n",
    "print(knn.score(X_train_pca, y_train))\n",
    "print(knn.score(X_test_pca, y_test))"
   ]
  },
  {
   "cell_type": "code",
   "execution_count": 100,
   "metadata": {},
   "outputs": [
    {
     "name": "stdout",
     "output_type": "stream",
     "text": [
      "Cross-validation scores:\n",
      "[0.90333333 0.90666667 0.9        0.88666667 0.90333333 0.9\n",
      " 0.88333333 0.89      ]\n",
      "0.8966666666666667\n"
     ]
    }
   ],
   "source": [
    "from sklearn.model_selection import KFold\n",
    "from sklearn.model_selection import cross_val_score\n",
    "\n",
    "kfold = KFold(n_splits=8)\n",
    "print(\"Cross-validation scores:\\n{}\".format(cross_val_score(knn , X_train_reduced, y_train, cv=kfold)))\n",
    "scores = cross_val_score(knn , X_train_reduced, y_train, cv=kfold)\n",
    "print(np.mean(scores))"
   ]
  },
  {
   "cell_type": "code",
   "execution_count": 101,
   "metadata": {},
   "outputs": [
    {
     "name": "stdout",
     "output_type": "stream",
     "text": [
      "[[468  57]\n",
      " [ 11  64]]\n",
      "0.6530612244897959\n"
     ]
    }
   ],
   "source": [
    "from sklearn.metrics import f1_score\n",
    "from sklearn.metrics import confusion_matrix\n",
    " \n",
    "knn = KNeighborsClassifier(2)\n",
    "knn.fit(X_train_pca, y_train)\n",
    "ypred = knn.predict(X_test_pca)\n",
    "cm = confusion_matrix(ypred,y_test)\n",
    "f = f1_score(ypred,y_test)\n",
    "print(cm)\n",
    "print(f)"
   ]
  },
  {
   "cell_type": "markdown",
   "metadata": {},
   "source": [
    "### KNN Classification Summary (After PCA) :\n",
    "\n",
    "#### Train Score: 0.9079\n",
    "\n",
    "#### Test Score: 0.8883\n",
    "\n",
    "#### Mean Cross - Validation Score: 0.8967\n",
    "\n",
    "#### Best Parameters: {'n_neighbors': 10}\n",
    "\n",
    "#### F1 Score: 0.6531"
   ]
  },
  {
   "cell_type": "markdown",
   "metadata": {},
   "source": [
    "### KNN Classification Summary (Before PCA) :\n",
    "\n",
    "#### Train Score: 0.8758\n",
    "\n",
    "#### Test Score: 0.8747\n",
    "\n",
    "#### Mean Cross - Validation Score: 0.8516\n",
    "\n",
    "#### Best Parameters: {'n_neighbors': 25}\n",
    "\n",
    "#### F1 Score: 0.5503"
   ]
  },
  {
   "cell_type": "markdown",
   "metadata": {},
   "source": [
    "## Logistic Regression (After applying PCA)"
   ]
  },
  {
   "cell_type": "code",
   "execution_count": 102,
   "metadata": {},
   "outputs": [],
   "source": [
    "X_train, X_test, y_train, y_test = train_test_split(X, y, random_state = 0, test_size = 0.2)\n",
    "#create model\n",
    "pca = PCA(n_components=0.95,random_state = 0)\n",
    "\n",
    "#train pca model\n",
    "pca.fit(X_train)\n",
    "\n",
    "#transforming X_train and X_test\n",
    "X_train_reduced = pca.transform(X_train)\n",
    "X_test_reduced = pca.transform(X_test)"
   ]
  },
  {
   "cell_type": "code",
   "execution_count": 103,
   "metadata": {},
   "outputs": [],
   "source": [
    "from sklearn.linear_model import LogisticRegression\n",
    "\n",
    "c_range = [0.001, 0.01, 0.1, 1, 10, 100, 1000]\n",
    "train_score_l1 = []\n",
    "train_score_l2 = []\n",
    "test_score_l1 = []\n",
    "test_score_l2 = []\n",
    "\n",
    "for c in c_range:\n",
    "    log_l1 = LogisticRegression(penalty = 'l1', C = c)\n",
    "    log_l2 = LogisticRegression(penalty = 'l2', C = c)\n",
    "    log_l1.fit(X_train_reduced, y_train)\n",
    "    log_l2.fit(X_train_reduced, y_train)\n",
    "    train_score_l1.append(log_l1.score(X_train_reduced, y_train))\n",
    "    train_score_l2.append(log_l2.score(X_train_reduced, y_train))\n",
    "    test_score_l1.append(log_l1.score(X_test_reduced, y_test))\n",
    "    test_score_l2.append(log_l2.score(X_test_reduced, y_test))"
   ]
  },
  {
   "cell_type": "code",
   "execution_count": 104,
   "metadata": {},
   "outputs": [
    {
     "data": {
      "image/png": "[encoded data removed]",
      "text/plain": [
       "<Figure size 432x288 with 1 Axes>"
      ]
     },
     "metadata": {
      "needs_background": "light"
     },
     "output_type": "display_data"
    }
   ],
   "source": [
    "import matplotlib.pyplot as plt\n",
    "%matplotlib inline\n",
    "\n",
    "plt.plot(c_range, train_score_l1, label = 'Train score, penalty = l1')\n",
    "plt.plot(c_range, test_score_l1, label = 'Test score, penalty = l1')\n",
    "plt.plot(c_range, train_score_l2, label = 'Train score, penalty = l2')\n",
    "plt.plot(c_range, test_score_l2, label = 'Test score, penalty = l2')\n",
    "plt.legend()\n",
    "plt.xlabel('Regularization parameter: C')\n",
    "plt.ylabel('Accuracy')\n",
    "plt.xscale('log')"
   ]
  },
  {
   "cell_type": "code",
   "execution_count": 105,
   "metadata": {},
   "outputs": [
    {
     "data": {
      "text/plain": [
       "GridSearchCV(cv=6, error_score='raise-deprecating',\n",
       "             estimator=LogisticRegression(C=1.0, class_weight=None, dual=False,\n",
       "                                          fit_intercept=True,\n",
       "                                          intercept_scaling=1, l1_ratio=None,\n",
       "                                          max_iter=100, multi_class='warn',\n",
       "                                          n_jobs=None, penalty='l2',\n",
       "                                          random_state=None, solver='warn',\n",
       "                                          tol=0.0001, verbose=0,\n",
       "                                          warm_start=False),\n",
       "             iid='warn', n_jobs=None,\n",
       "             param_grid={'C': [0.001, 0.01, 0.1, 1, 10, 100],\n",
       "                         'penalty': ['l1', 'l2']},\n",
       "             pre_dispatch='2*n_jobs', refit=True, return_train_score=True,\n",
       "             scoring=None, verbose=0)"
      ]
     },
     "execution_count": 105,
     "metadata": {},
     "output_type": "execute_result"
    }
   ],
   "source": [
    "from sklearn.model_selection import GridSearchCV\n",
    "model = LogisticRegression()\n",
    "penalty = ['l1', 'l2']\n",
    "C = [0.001,0.01,0.1,1,10,100]\n",
    "parameters = dict(C=C, penalty=penalty)\n",
    "\n",
    "grid_search = GridSearchCV(model,parameters, cv=6, return_train_score=True)\n",
    "grid_search.fit(X_train_reduced, y_train)"
   ]
  },
  {
   "cell_type": "code",
   "execution_count": 106,
   "metadata": {},
   "outputs": [
    {
     "name": "stdout",
     "output_type": "stream",
     "text": [
      "Best parameters: {'C': 1, 'penalty': 'l1'}\n",
      "Best cross-validation score: 0.98\n"
     ]
    }
   ],
   "source": [
    "print(\"Best parameters: {}\".format(grid_search.best_params_))\n",
    "print(\"Best cross-validation score: {:.2f}\".format(grid_search.best_score_))"
   ]
  },
  {
   "cell_type": "code",
   "execution_count": 107,
   "metadata": {},
   "outputs": [
    {
     "name": "stdout",
     "output_type": "stream",
     "text": [
      "0.97875\n",
      "0.9933333333333333\n"
     ]
    }
   ],
   "source": [
    "log_l2 = LogisticRegression(penalty = 'l2', C = 100)\n",
    "#log_l1.fit(X_train, y_train)\n",
    "log_l2.fit(X_train_reduced, y_train)\n",
    "print(log_l2.score(X_train_reduced, y_train))\n",
    "#test_score_l1.append(log_l1.score(X_test, y_test))\n",
    "print(log_l2.score(X_test_reduced, y_test))"
   ]
  },
  {
   "cell_type": "code",
   "execution_count": 108,
   "metadata": {},
   "outputs": [
    {
     "name": "stdout",
     "output_type": "stream",
     "text": [
      "Cross-validation scores:\n",
      "[0.97416667 0.97833333]\n",
      "0.9762500000000001\n"
     ]
    }
   ],
   "source": [
    "from sklearn.model_selection import KFold\n",
    "from sklearn.model_selection import cross_val_score\n",
    "log_l1 = LogisticRegression(penalty = 'l1', C = 0.01)\n",
    "kfold = KFold(n_splits=2)\n",
    "print(\"Cross-validation scores:\\n{}\".format(cross_val_score(log_l2 , X_train_reduced, y_train, cv=kfold)))\n",
    "scores = cross_val_score(log_l2 , X_train_reduced, y_train, cv=kfold)\n",
    "print(np.mean(scores))"
   ]
  },
  {
   "cell_type": "code",
   "execution_count": 109,
   "metadata": {},
   "outputs": [
    {
     "name": "stdout",
     "output_type": "stream",
     "text": [
      "0.9356223175965664\n",
      "[[476  12]\n",
      " [  3 109]]\n"
     ]
    }
   ],
   "source": [
    "from sklearn.metrics import f1_score\n",
    "log_l2 = LogisticRegression(penalty = 'l1', C = 0.01)\n",
    "log_l2.fit(X_train_reduced, y_train)\n",
    "ypred = log_l2.predict(X_test_reduced)\n",
    "ft = f1_score(ypred,y_test)\n",
    "cm = confusion_matrix(ypred,y_test)\n",
    "print(ft)\n",
    "print(cm)"
   ]
  },
  {
   "cell_type": "markdown",
   "metadata": {},
   "source": [
    "### Logistic Regression Summary (After PCA) :\n",
    "\n",
    "#### Train Score: 0.9788\n",
    "\n",
    "#### Test Score: 0.9933\n",
    "\n",
    "#### Mean Cross - Validation Score: 0.9763\n",
    "\n",
    "#### Best Parameters: {'C': 1, 'penalty': 'l1'}\n",
    "\n",
    "#### F1 Score: 0.9356"
   ]
  },
  {
   "cell_type": "markdown",
   "metadata": {},
   "source": [
    "### Logistic Regression Summary (Before PCA) :\n",
    "\n",
    "#### Train Score: 0.9682\n",
    "\n",
    "#### Test Score: 0.9733\n",
    "\n",
    "#### Mean Cross - Validation Score: 0.9651\n",
    "\n",
    "#### Best Parameters: {'C': 1, 'penaty': 'l1'}\n",
    "\n",
    "#### F1 Score: 0.9312"
   ]
  },
  {
   "cell_type": "markdown",
   "metadata": {},
   "source": [
    "## Decision Tree (After applying PCA)"
   ]
  },
  {
   "cell_type": "code",
   "execution_count": 110,
   "metadata": {},
   "outputs": [],
   "source": [
    "X_train, X_test, y_train, y_test = train_test_split(X, y, random_state = 0, test_size = 0.2)\n",
    "#create model\n",
    "pca = PCA(n_components=0.95,random_state = 0)\n",
    "\n",
    "#train pca model\n",
    "pca.fit(X_train)\n",
    "\n",
    "#transforming X_train and X_test\n",
    "X_train_reduced = pca.transform(X_train)\n",
    "X_test_reduced = pca.transform(X_test)"
   ]
  },
  {
   "cell_type": "code",
   "execution_count": 111,
   "metadata": {},
   "outputs": [],
   "source": [
    "param_grid = {\n",
    "    'max_depth' : [1,2,3,4,5,6,7,8,9,10]\n",
    "}"
   ]
  },
  {
   "cell_type": "code",
   "execution_count": 112,
   "metadata": {},
   "outputs": [
    {
     "data": {
      "text/plain": [
       "GridSearchCV(cv=6, error_score='raise-deprecating',\n",
       "             estimator=DecisionTreeClassifier(class_weight=None,\n",
       "                                              criterion='gini', max_depth=None,\n",
       "                                              max_features=None,\n",
       "                                              max_leaf_nodes=None,\n",
       "                                              min_impurity_decrease=0.0,\n",
       "                                              min_impurity_split=None,\n",
       "                                              min_samples_leaf=1,\n",
       "                                              min_samples_split=2,\n",
       "                                              min_weight_fraction_leaf=0.0,\n",
       "                                              presort=False, random_state=0,\n",
       "                                              splitter='best'),\n",
       "             iid='warn', n_jobs=None,\n",
       "             param_grid={'max_depth': [1, 2, 3, 4, 5, 6, 7, 8, 9, 10]},\n",
       "             pre_dispatch='2*n_jobs', refit=True, return_train_score=True,\n",
       "             scoring=None, verbose=0)"
      ]
     },
     "execution_count": 112,
     "metadata": {},
     "output_type": "execute_result"
    }
   ],
   "source": [
    "dtree_clf = GridSearchCV(DecisionTreeClassifier(random_state=0),param_grid, cv=6, return_train_score=True)\n",
    "dtree_clf.fit(X_train_reduced, y_train)"
   ]
  },
  {
   "cell_type": "code",
   "execution_count": 113,
   "metadata": {},
   "outputs": [
    {
     "name": "stdout",
     "output_type": "stream",
     "text": [
      "Best parameters: {'max_depth': 6}\n",
      "Best cross-validation score: 0.88\n"
     ]
    }
   ],
   "source": [
    "print(\"Best parameters: {}\".format(dtree_clf.best_params_))\n",
    "print(\"Best cross-validation score: {:.2f}\".format(dtree_clf.best_score_))"
   ]
  },
  {
   "cell_type": "code",
   "execution_count": 114,
   "metadata": {},
   "outputs": [
    {
     "name": "stdout",
     "output_type": "stream",
     "text": [
      "Accuracy on training set: 0.793\n",
      "Accuracy on test set: 0.798\n"
     ]
    }
   ],
   "source": [
    "dtree = DecisionTreeClassifier(max_depth=1, random_state=0)\n",
    "dtree.fit(X_train_reduced, y_train)\n",
    "\n",
    "print(\"Accuracy on training set: {:.3f}\".format(dtree.score(X_train_reduced, y_train)))\n",
    "print(\"Accuracy on test set: {:.3f}\".format(dtree.score(X_test_reduced, y_test)))"
   ]
  },
  {
   "cell_type": "code",
   "execution_count": 115,
   "metadata": {},
   "outputs": [
    {
     "name": "stdout",
     "output_type": "stream",
     "text": [
      "Cross-validation scores:\n",
      "[0.7925 0.77   0.8325 0.7825 0.7725 0.7825]\n",
      "1.0\n"
     ]
    }
   ],
   "source": [
    "from sklearn.model_selection import KFold\n",
    "from sklearn.model_selection import cross_val_score\n",
    "dtree = DecisionTreeClassifier(max_depth=1, random_state=0)\n",
    "kfold = KFold(n_splits=6)\n",
    "print(\"Cross-validation scores:\\n{}\".format(cross_val_score(dtree , X_train_reduced, y_train, cv=kfold)))\n",
    "scores = cross_val_score(dtree , X_train, y_train, cv=kfold)\n",
    "print(np.mean(scores))"
   ]
  },
  {
   "cell_type": "code",
   "execution_count": 116,
   "metadata": {},
   "outputs": [
    {
     "name": "stdout",
     "output_type": "stream",
     "text": [
      "[[479 121]\n",
      " [  0   0]]\n",
      "0.0\n"
     ]
    },
    {
     "name": "stderr",
     "output_type": "stream",
     "text": [
      "C:\\Users\\dhurv\\Anaconda3\\lib\\site-packages\\sklearn\\metrics\\classification.py:1439: UndefinedMetricWarning: F-score is ill-defined and being set to 0.0 due to no true samples.\n",
      "  'recall', 'true', average, warn_for)\n"
     ]
    }
   ],
   "source": [
    "from sklearn.metrics import f1_score\n",
    "from sklearn.metrics import confusion_matrix\n",
    "\n",
    "from sklearn.metrics import f1_score\n",
    "dtree = DecisionTreeClassifier(max_depth=1, random_state=0)\n",
    "dtree.fit(X_train_reduced, y_train)\n",
    "ypred = dtree.predict(X_test_reduced)\n",
    "cm = confusion_matrix(ypred,y_test)\n",
    "ft = f1_score(ypred,y_test)\n",
    "print(cm)\n",
    "print(ft)"
   ]
  },
  {
   "cell_type": "markdown",
   "metadata": {},
   "source": [
    "### Decision Tree Summary (After PCA) :\n",
    "\n",
    "#### Train Score: 0.7930\n",
    "\n",
    "#### Test Score: 0.7980\n",
    "\n",
    "#### Mean Cross - Validation Score: 1.0\n",
    "\n",
    "#### F1 Score: 0.0"
   ]
  },
  {
   "cell_type": "markdown",
   "metadata": {},
   "source": [
    "### Decision Tree Summary (Before PCA) :\n",
    "\n",
    "#### Train Score: 1.0\n",
    "\n",
    "#### Test Score: 1.0\n",
    "\n",
    "#### Mean Cross - Validation Score: 1.0\n",
    "\n",
    "#### F1 Score: 1.0"
   ]
  },
  {
   "cell_type": "markdown",
   "metadata": {},
   "source": [
    "## Kernelized Support Vector Machine - rbf (After applying PCA)"
   ]
  },
  {
   "cell_type": "code",
   "execution_count": 117,
   "metadata": {},
   "outputs": [],
   "source": [
    "X_train, X_test, y_train, y_test = train_test_split(X, y, random_state = 0, test_size = 0.2)\n",
    "#create model\n",
    "pca = PCA(n_components=0.95,random_state = 0)\n",
    "\n",
    "#train pca model\n",
    "pca.fit(X_train)\n",
    "\n",
    "#transforming X_train and X_test\n",
    "X_train_reduced = pca.transform(X_train)\n",
    "X_test_reduced = pca.transform(X_test)\n",
    "scaler = MinMaxScaler()\n",
    "scaler.fit(X_train_reduced)\n",
    "X_train_reduced = scaler.transform(X_train_reduced)\n",
    "X_test_reduced = scaler.transform(X_test_reduced)"
   ]
  },
  {
   "cell_type": "code",
   "execution_count": 118,
   "metadata": {},
   "outputs": [
    {
     "data": {
      "text/plain": [
       "((2400, 9), (2400,))"
      ]
     },
     "execution_count": 118,
     "metadata": {},
     "output_type": "execute_result"
    }
   ],
   "source": [
    "X_train_reduced.shape, y_train.shape"
   ]
  },
  {
   "cell_type": "code",
   "execution_count": 119,
   "metadata": {},
   "outputs": [],
   "source": [
    "from sklearn.svm import SVC\n",
    "\n",
    "train = []\n",
    "test = []\n",
    "index = []\n",
    "\n",
    "for C in [0.001, 0.01,0.1, 1, 10, 100]:\n",
    "    for gamma in [0.001, 0.01,0.1, 1, 10, 100]:\n",
    "        #create the model\n",
    "        svc = SVC(kernel = 'rbf', C = C, gamma = gamma)\n",
    "        \n",
    "        #train the model\n",
    "        svc.fit(X_train_reduced, y_train)\n",
    "        \n",
    "        #evaluate the model\n",
    "        train.append(svc.score(X_train_reduced, y_train))\n",
    "        test.append(svc.score(X_test_reduced, y_test))\n",
    "        index.append((C,gamma))"
   ]
  },
  {
   "cell_type": "code",
   "execution_count": 120,
   "metadata": {},
   "outputs": [
    {
     "name": "stdout",
     "output_type": "stream",
     "text": [
      "[0.7933333333333333, 0.7933333333333333, 0.7933333333333333, 0.7933333333333333, 0.7933333333333333, 0.7933333333333333, 0.7933333333333333, 0.7933333333333333, 0.7933333333333333, 0.7933333333333333, 0.7933333333333333, 0.7933333333333333, 0.7933333333333333, 0.7933333333333333, 0.7975, 0.8941666666666667, 0.9183333333333333, 0.7933333333333333, 0.7933333333333333, 0.7983333333333333, 0.8958333333333334, 0.9408333333333333, 0.9616666666666667, 0.9920833333333333, 0.7983333333333333, 0.8958333333333334, 0.9420833333333334, 0.9683333333333334, 0.99125, 1.0, 0.8966666666666666, 0.9420833333333334, 0.9704166666666667, 0.985, 1.0, 1.0]\n",
      "[0.7983333333333333, 0.7983333333333333, 0.7983333333333333, 0.7983333333333333, 0.7983333333333333, 0.7983333333333333, 0.7983333333333333, 0.7983333333333333, 0.7983333333333333, 0.7983333333333333, 0.7983333333333333, 0.7983333333333333, 0.7983333333333333, 0.7983333333333333, 0.8016666666666666, 0.8883333333333333, 0.9016666666666666, 0.7983333333333333, 0.7983333333333333, 0.8016666666666666, 0.895, 0.925, 0.9483333333333334, 0.825, 0.8016666666666666, 0.895, 0.93, 0.9716666666666667, 0.9633333333333334, 0.8416666666666667, 0.895, 0.93, 0.9733333333333334, 0.99, 0.9533333333333334, 0.8416666666666667]\n",
      "[(0.001, 0.001), (0.001, 0.01), (0.001, 0.1), (0.001, 1), (0.001, 10), (0.001, 100), (0.01, 0.001), (0.01, 0.01), (0.01, 0.1), (0.01, 1), (0.01, 10), (0.01, 100), (0.1, 0.001), (0.1, 0.01), (0.1, 0.1), (0.1, 1), (0.1, 10), (0.1, 100), (1, 0.001), (1, 0.01), (1, 0.1), (1, 1), (1, 10), (1, 100), (10, 0.001), (10, 0.01), (10, 0.1), (10, 1), (10, 10), (10, 100), (100, 0.001), (100, 0.01), (100, 0.1), (100, 1), (100, 10), (100, 100)]\n"
     ]
    }
   ],
   "source": [
    "print(train)\n",
    "print(test)\n",
    "print(index)"
   ]
  },
  {
   "cell_type": "code",
   "execution_count": 121,
   "metadata": {},
   "outputs": [
    {
     "data": {
      "text/plain": [
       "GridSearchCV(cv=6, error_score='raise-deprecating',\n",
       "             estimator=SVC(C=1.0, cache_size=200, class_weight=None, coef0=0.0,\n",
       "                           decision_function_shape='ovr', degree=3,\n",
       "                           gamma='auto_deprecated', kernel='rbf', max_iter=-1,\n",
       "                           probability=False, random_state=None, shrinking=True,\n",
       "                           tol=0.001, verbose=False),\n",
       "             iid='warn', n_jobs=None,\n",
       "             param_grid={'C': [0.001, 0.01, 0.1, 1, 10, 100],\n",
       "                         'gamma': [0.001, 0.01, 0.1, 1, 10, 100]},\n",
       "             pre_dispatch='2*n_jobs', refit=True, return_train_score=True,\n",
       "             scoring=None, verbose=0)"
      ]
     },
     "execution_count": 121,
     "metadata": {},
     "output_type": "execute_result"
    }
   ],
   "source": [
    "from sklearn.model_selection import GridSearchCV\n",
    "model = SVC(kernel = 'rbf')\n",
    "\n",
    "parameters = {'C': [0.001, 0.01, 0.1, 1, 10, 100], 'gamma' : [0.001, 0.01, 0.1, 1, 10, 100]}\n",
    "\n",
    "grid_search = GridSearchCV(model,parameters, cv=6, return_train_score=True)\n",
    "grid_search.fit(X_train_reduced, y_train)"
   ]
  },
  {
   "cell_type": "code",
   "execution_count": 122,
   "metadata": {},
   "outputs": [
    {
     "name": "stdout",
     "output_type": "stream",
     "text": [
      "Best parameters: {'C': 100, 'gamma': 1}\n",
      "Best cross-validation score: 0.97\n"
     ]
    }
   ],
   "source": [
    "print(\"Best parameters: {}\".format(grid_search.best_params_))\n",
    "print(\"Best cross-validation score: {:.2f}\".format(grid_search.best_score_))"
   ]
  },
  {
   "cell_type": "code",
   "execution_count": 123,
   "metadata": {},
   "outputs": [
    {
     "name": "stdout",
     "output_type": "stream",
     "text": [
      "[0.7925 0.77   0.8125 0.8    0.8025 0.7825]\n",
      "0.7933333333333333\n"
     ]
    }
   ],
   "source": [
    "from sklearn.model_selection import KFold\n",
    "from sklearn.model_selection import cross_val_score\n",
    "svc1 = SVC(kernel = 'rbf',C = 0.001,gamma = 0.001)\n",
    "kfold = KFold(n_splits=6)\n",
    "#print(\"Cross-validation scores:\\n{}\".format(cross_val_score(svc , X_train, y_train, cv=kfold)))\n",
    "scores = cross_val_score(svc1 , X_train_reduced, y_train, cv=kfold)\n",
    "print(scores)\n",
    "print(np.mean(scores))"
   ]
  },
  {
   "cell_type": "code",
   "execution_count": 124,
   "metadata": {},
   "outputs": [
    {
     "name": "stdout",
     "output_type": "stream",
     "text": [
      "[[479 121]\n",
      " [  0   0]]\n",
      "0.0\n"
     ]
    },
    {
     "name": "stderr",
     "output_type": "stream",
     "text": [
      "C:\\Users\\dhurv\\Anaconda3\\lib\\site-packages\\sklearn\\metrics\\classification.py:1439: UndefinedMetricWarning: F-score is ill-defined and being set to 0.0 due to no true samples.\n",
      "  'recall', 'true', average, warn_for)\n"
     ]
    }
   ],
   "source": [
    "from sklearn.metrics import f1_score\n",
    "svc = SVC(kernel = 'rbf', C = 0.001 , gamma = 0.001)\n",
    "svc.fit(X_train_reduced, y_train)\n",
    "ypred = svc.predict(X_test_reduced)\n",
    "f = f1_score(ypred,y_test)\n",
    "cm = confusion_matrix(ypred,y_test)\n",
    "print(cm)\n",
    "print(f)"
   ]
  },
  {
   "cell_type": "markdown",
   "metadata": {},
   "source": [
    "### Kernelized Support Vector Machine - rbf Summary (After PCA) :\n",
    "\n",
    "#### Train Score: 0.8958\n",
    "\n",
    "#### Test Score: 0.8017\n",
    "\n",
    "#### Mean Cross - Validation Score: 0.7933\n",
    "\n",
    "#### Best Parameters: {'C': 100, 'gamma': 1}\n",
    "\n",
    "#### F1 Score: 0.0"
   ]
  },
  {
   "cell_type": "markdown",
   "metadata": {},
   "source": [
    "### Kernelized Support Vector Machine - rbf Summary (Before PCA) :\n",
    "\n",
    "#### Train Score: 0.9151\n",
    "\n",
    "#### Test Score: 0.9064\n",
    "\n",
    "#### Mean Cross - Validation Score: 0.9168\n",
    "\n",
    "#### Best Parameters: {'C': 10, 'gamma': 0.01}\n",
    "\n",
    "#### F1 Score: 0.8362"
   ]
  },
  {
   "cell_type": "markdown",
   "metadata": {},
   "source": [
    "## The PCA helps in getting better results for KNN Classification and Logistic Regression but not for Decision Tree and Kernelized Support Vector Machine - rbf "
   ]
  },
  {
   "cell_type": "markdown",
   "metadata": {},
   "source": [
    "## Deep Learning - Neural Network"
   ]
  },
  {
   "cell_type": "code",
   "execution_count": 125,
   "metadata": {},
   "outputs": [],
   "source": [
    "from sklearn.preprocessing import MinMaxScaler\n",
    "from sklearn.model_selection import train_test_split\n",
    "\n",
    "#split data set into train and test\n",
    "X_train_org, X_test_org, y_train, y_test = train_test_split(X, y, random_state = 0)"
   ]
  },
  {
   "cell_type": "code",
   "execution_count": 126,
   "metadata": {},
   "outputs": [],
   "source": [
    "scaler = MinMaxScaler()\n",
    "X_train = scaler.fit_transform(X_train_org.astype(float))\n",
    "X_test = scaler.transform(X_test_org.astype(float))"
   ]
  },
  {
   "cell_type": "code",
   "execution_count": 127,
   "metadata": {},
   "outputs": [
    {
     "data": {
      "text/plain": [
       "(2250, 18)"
      ]
     },
     "execution_count": 127,
     "metadata": {},
     "output_type": "execute_result"
    }
   ],
   "source": [
    "X_train.shape"
   ]
  },
  {
   "cell_type": "code",
   "execution_count": 128,
   "metadata": {},
   "outputs": [],
   "source": [
    "from tensorflow.keras import Sequential \n",
    "from tensorflow.keras.layers import Dense\n",
    "\n",
    "np.random.seed(100)"
   ]
  },
  {
   "cell_type": "code",
   "execution_count": 129,
   "metadata": {},
   "outputs": [
    {
     "name": "stdout",
     "output_type": "stream",
     "text": [
      "WARNING:tensorflow:From C:\\Users\\dhurv\\Anaconda3\\lib\\site-packages\\tensorflow\\python\\ops\\init_ops.py:1251: calling VarianceScaling.__init__ (from tensorflow.python.ops.init_ops) with dtype is deprecated and will be removed in a future version.\n",
      "Instructions for updating:\n",
      "Call initializer instance with the dtype argument instead of passing it to the constructor\n",
      "WARNING:tensorflow:From C:\\Users\\dhurv\\Anaconda3\\lib\\site-packages\\tensorflow\\python\\ops\\nn_impl.py:180: add_dispatch_support.<locals>.wrapper (from tensorflow.python.ops.array_ops) is deprecated and will be removed in a future version.\n",
      "Instructions for updating:\n",
      "Use tf.where in 2.0, which has the same broadcast rule as np.where\n",
      "Epoch 1/20\n",
      "2250/2250 [==============================] - 1s 249us/sample - loss: 0.7546 - acc: 0.3400\n",
      "Epoch 2/20\n",
      "2250/2250 [==============================] - 0s 14us/sample - loss: 0.6567 - acc: 0.7391\n",
      "Epoch 3/20\n",
      "2250/2250 [==============================] - 0s 12us/sample - loss: 0.6095 - acc: 0.7933\n",
      "Epoch 4/20\n",
      "2250/2250 [==============================] - 0s 12us/sample - loss: 0.5717 - acc: 0.7947\n",
      "Epoch 5/20\n",
      "2250/2250 [==============================] - 0s 13us/sample - loss: 0.5391 - acc: 0.7947\n",
      "Epoch 6/20\n",
      "2250/2250 [==============================] - 0s 12us/sample - loss: 0.5175 - acc: 0.7947\n",
      "Epoch 7/20\n",
      "2250/2250 [==============================] - 0s 12us/sample - loss: 0.5020 - acc: 0.7947\n",
      "Epoch 8/20\n",
      "2250/2250 [==============================] - 0s 11us/sample - loss: 0.4877 - acc: 0.7947\n",
      "Epoch 9/20\n",
      "2250/2250 [==============================] - 0s 12us/sample - loss: 0.4750 - acc: 0.7947\n",
      "Epoch 10/20\n",
      "2250/2250 [==============================] - 0s 12us/sample - loss: 0.4631 - acc: 0.7947\n",
      "Epoch 11/20\n",
      "2250/2250 [==============================] - 0s 12us/sample - loss: 0.4525 - acc: 0.7947\n",
      "Epoch 12/20\n",
      "2250/2250 [==============================] - 0s 12us/sample - loss: 0.4425 - acc: 0.7947\n",
      "Epoch 13/20\n",
      "2250/2250 [==============================] - 0s 12us/sample - loss: 0.4337 - acc: 0.7947\n",
      "Epoch 14/20\n",
      "2250/2250 [==============================] - 0s 12us/sample - loss: 0.4259 - acc: 0.7947\n",
      "Epoch 15/20\n",
      "2250/2250 [==============================] - 0s 12us/sample - loss: 0.4186 - acc: 0.7947\n",
      "Epoch 16/20\n",
      "2250/2250 [==============================] - 0s 12us/sample - loss: 0.4116 - acc: 0.7947\n",
      "Epoch 17/20\n",
      "2250/2250 [==============================] - 0s 12us/sample - loss: 0.4039 - acc: 0.8004\n",
      "Epoch 18/20\n",
      "2250/2250 [==============================] - 0s 12us/sample - loss: 0.3950 - acc: 0.8187\n",
      "Epoch 19/20\n",
      "2250/2250 [==============================] - 0s 12us/sample - loss: 0.3865 - acc: 0.8387\n",
      "Epoch 20/20\n",
      "2250/2250 [==============================] - 0s 12us/sample - loss: 0.3783 - acc: 0.8462\n"
     ]
    },
    {
     "data": {
      "text/plain": [
       "<tensorflow.python.keras.callbacks.History at 0x22db15fc550>"
      ]
     },
     "execution_count": 129,
     "metadata": {},
     "output_type": "execute_result"
    }
   ],
   "source": [
    "# step 1: build the model\n",
    "model1 = Sequential()\n",
    "#input leyer\n",
    "model1.add(Dense(10, input_dim = 18, activation = 'relu'))\n",
    "#hidden layer\n",
    "model1.add(Dense(5, activation = 'relu'))\n",
    "#output layer\n",
    "model1.add(Dense(1, activation = 'sigmoid'))\n",
    "\n",
    "# step 2: build the computational graph - compile\n",
    "model1.compile(loss = 'binary_crossentropy', optimizer = 'adam' , metrics = ['accuracy'])\n",
    "\n",
    "# step 3: train the model\n",
    "model1.fit(X_train, y_train, epochs = 20, batch_size = 100)\n"
   ]
  },
  {
   "cell_type": "code",
   "execution_count": 130,
   "metadata": {},
   "outputs": [
    {
     "name": "stdout",
     "output_type": "stream",
     "text": [
      "2250/2250 [==============================] - 0s 46us/sample - loss: 0.3728 - acc: 0.8471\n"
     ]
    },
    {
     "data": {
      "text/plain": [
       "[0.37277135128445094, 0.8471111]"
      ]
     },
     "execution_count": 130,
     "metadata": {},
     "output_type": "execute_result"
    }
   ],
   "source": [
    "# step 4: model evaluation\n",
    "\n",
    "model1.evaluate(X_train, y_train)"
   ]
  },
  {
   "cell_type": "code",
   "execution_count": 131,
   "metadata": {},
   "outputs": [
    {
     "name": "stdout",
     "output_type": "stream",
     "text": [
      "750/750 [==============================] - 0s 17us/sample - loss: 0.3668 - acc: 0.8467\n"
     ]
    },
    {
     "data": {
      "text/plain": [
       "[0.3667881643772125, 0.8466667]"
      ]
     },
     "execution_count": 131,
     "metadata": {},
     "output_type": "execute_result"
    }
   ],
   "source": [
    "model1.evaluate(X_test, y_test)"
   ]
  },
  {
   "cell_type": "code",
   "execution_count": 132,
   "metadata": {},
   "outputs": [],
   "source": [
    "y_pred = model1.predict(X_train)"
   ]
  },
  {
   "cell_type": "code",
   "execution_count": 133,
   "metadata": {},
   "outputs": [
    {
     "data": {
      "text/plain": [
       "0.8352272727272727"
      ]
     },
     "execution_count": 133,
     "metadata": {},
     "output_type": "execute_result"
    }
   ],
   "source": [
    "from sklearn.metrics import precision_score\n",
    "y_train_pred = np.where(y_pred >= 0.5, 1, 0)\n",
    "precision_score(y_train, y_train_pred)"
   ]
  }
 ],
 "metadata": {
  "kernelspec": {
   "display_name": "Python 3",
   "language": "python",
   "name": "python3"
  },
  "language_info": {
   "codemirror_mode": {
    "name": "ipython",
    "version": 3
   },
   "file_extension": ".py",
   "mimetype": "text/x-python",
   "name": "python",
   "nbconvert_exporter": "python",
   "pygments_lexer": "ipython3",
   "version": "3.7.3"
  }
 },
 "nbformat": 4,
 "nbformat_minor": 2
}
